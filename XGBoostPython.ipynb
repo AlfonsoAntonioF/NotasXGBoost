{
 "cells": [
  {
   "cell_type": "markdown",
   "metadata": {},
   "source": [
    "# Capitulo 1 "
   ]
  },
  {
   "cell_type": "markdown",
   "metadata": {},
   "source": [
    "Bienvenido a XGBoost con Python. Este libro es tu guía para el boosting de gradiente rápido en Python. Descubrirás la biblioteca de Python para XGBoost y cómo usarla para desarrollar y evaluar modelos de boosting de gradiente. En este libro, aprenderás las técnicas, recetas y habilidades con XGBoost que luego podrás aplicar a tus propios proyectos de aprendizaje automático.\n",
    "\n",
    "El boosting de gradiente tiene una matemática fascinante detrás, pero no necesitas conocerla para poder utilizar esta herramienta en proyectos importantes y entregar valor real. Desde una perspectiva aplicada, el boosting de gradiente es un campo bastante accesible, y un desarrollador motivado puede aprenderlo rápidamente y comenzar a hacer contribuciones reales e impactantes. Este es mi objetivo para ti, y este libro es tu boleto para lograrlo."
   ]
  },
  {
   "cell_type": "markdown",
   "metadata": {},
   "source": [
    "## 1.1 Organización del libro \n",
    "\n",
    "Los tutoriales en este libro están divididos en tres partes:\n",
    "* Conceptos Básicos de XGBoost.\n",
    "* XGBoost Avanzado.\n",
    "* Ajuste de XGBoost.\n",
    "\n",
    "Además de estas tres partes, la sección de Conclusiones al final del libro incluye una lista de recursos para obtener ayuda y profundizar en el campo."
   ]
  },
  {
   "cell_type": "markdown",
   "metadata": {},
   "source": [
    "### 1.1.1 Conceptos Basicos de XGBoost \n",
    "\n",
    "Esta parte proporciona una introducción sencilla a la biblioteca XGBoost para su uso con la biblioteca scikit-learn en Python. Después de completar los tutoriales en esta sección, conocerás los aspectos básicos de los modelos XGBoost. Específicamente, esta parte cubre:\n",
    "* Una introducción sencilla al algoritmo de boosting de gradiente.\n",
    "* Una introducción sencilla a la biblioteca XGBoost y por qué es tan popular.\n",
    "* Cómo desarrollar tu primer modelo XGBoost desde cero.\n",
    "* Cómo preparar datos para usar con XGBoost.\n",
    "* Cómo evaluar el rendimiento de los modelos XGBoost entrenados.\n",
    "* Cómo visualizar árboles potenciados dentro de un modelo XGBoost.\n",
    "\n",
    "\n",
    "### 1.1.2 XGBoost Avanzado\n",
    "\n",
    "\n",
    "Esta parte proporciona una introducción a algunas de las características más avanzadas y usos de la biblioteca XGBoost. Después de completar los tutoriales en esta sección, sabrás cómo implementar algunas de las capacidades más avanzadas del boosting de gradiente y escalar tus modelos para plataformas de hardware más grandes. Específicamente, esta parte cubre:\n",
    "- Cómo serializar modelos entrenados a un archivo y luego cargarlos y utilizarlos para hacer predicciones.\n",
    "- Cómo calcular las puntuaciones de importancia y utilizarlas para la selección de características.\n",
    "- Cómo monitorear el rendimiento de un modelo durante el entrenamiento y establecer condiciones para la detención temprana.\n",
    "- Cómo aprovechar las características paralelas de la biblioteca XGBoost para entrenar modelos más rápido.\n",
    "- Cómo acelerar rápidamente el entrenamiento de modelos XGBoost utilizando la infraestructura en la nube de Amazon.\n"
   ]
  },
  {
   "cell_type": "markdown",
   "metadata": {},
   "source": [
    "### 1.1.3 Ajuste de XGBoost\n",
    "Esta parte ofrece tutoriales que detallan cómo configurar y ajustar los hiperparámetros de XGBoost. Después de completar los tutoriales en esta sección, sabrás cómo diseñar experimentos de ajuste de parámetros para obtener el máximo rendimiento de tus modelos. Específicamente, esta parte cubre:\n",
    "- Una introducción a los parámetros de XGBoost y heurísticas para seleccionar buenos valores de parámetros.\n",
    "- Cómo ajustar el número y tamaño de los árboles en un modelo.\n",
    "- Cómo ajustar la tasa de aprendizaje y el número de árboles en un modelo.\n",
    "- Cómo ajustar las tasas de muestreo en la variación estocástica del algoritmo.\n",
    "\n",
    "### 1.1.4 Recetas en Python\n",
    "Crear un catálogo de recetas de código es una parte importante de tu recorrido con XGBoost. Cada vez que aprendas una nueva técnica o un nuevo tipo de problema, deberías escribir una breve receta de código que lo demuestre. Esto te proporcionará un punto de partida para usar en tu próximo proyecto de aprendizaje automático.\n",
    "\n",
    "Como parte de este libro, recibirás un catálogo de recetas de XGBoost. Esto incluye recetas para todos los tutoriales presentados en este libro. Se te anima encarecidamente a añadir y expandir este catálogo de recetas a medida que amplíes tu uso y conocimiento de XGBoost en Python."
   ]
  },
  {
   "cell_type": "markdown",
   "metadata": {},
   "source": [
    "### 1.2 Requisitos Para Este Libro\n",
    "#### 1.2.1 Python y SciPy\n",
    "No necesitas ser un experto en Python, pero sería útil que supieras cómo instalar y configurar Python y SciPy. Los tutoriales asumen que tienes un entorno de Python y SciPy disponible. Esto puede ser en tu estación de trabajo o laptop, en una máquina virtual (VM) o una instancia de Docker que ejecutes, o en una instancia de servidor que puedas configurar en la nube, como se enseña en la Parte III de este libro.\n",
    "\n",
    "**Requisitos Técnicos**: Los requisitos técnicos para el código y los tutoriales en este libro son los siguientes:\n",
    "- Python versión 2 o 3 instalado. Este libro fue desarrollado usando Python versión 2.7.11.\n",
    "- SciPy y NumPy instalados. Este libro fue desarrollado con SciPy versión 0.17.0 y NumPy versión 1.11.0.\n",
    "- Matplotlib instalado. Este libro fue desarrollado con Matplotlib versión 1.5.1.\n",
    "- Pandas instalado. Este libro fue desarrollado con Pandas versión 0.18.0.\n",
    "- scikit-learn instalado. Este libro fue desarrollado con scikit-learn 0.18.1.\n",
    "\n",
    "No necesitas coincidir exactamente con las versiones, pero si tienes problemas al ejecutar un ejemplo de código específico, asegúrate de actualizar a la misma versión o superior de la biblioteca especificada.\n",
    "\n",
    "#### 1.2.2 Aprendizaje Automático\n",
    "No necesitas ser un experto en aprendizaje automático, pero sería útil que supieras cómo abordar un pequeño problema de aprendizaje automático usando scikit-learn. Los conceptos básicos como la validación cruzada y la codificación one-hot utilizados en los tutoriales se describen, pero solo brevemente. Hay recursos al final del libro para profundizar en estos temas, pero algún conocimiento en estas áreas podría facilitarte las cosas.\n",
    "\n",
    "#### 1.2.3 Boosting de Gradiente\n",
    "No necesitas conocer las matemáticas y la teoría de los algoritmos de boosting de gradiente, pero sería útil tener alguna idea básica del campo. Recibirás un curso rápido sobre la terminología y los modelos de boosting de gradiente, pero no entraremos en mucho detalle técnico. Nuevamente, habrá recursos para más información al final del libro, pero podría ser útil comenzar con alguna idea sobre los detalles técnicos de la técnica.\n",
    "\n",
    "### 1.3 Tus Resultados Al Leer Este Libro\n",
    "Este libro te llevará de ser un desarrollador interesado en XGBoost con Python a un desarrollador que tiene los recursos y capacidades para trabajar con un nuevo conjunto de datos de principio a fin utilizando Python y desarrollar modelos de boosting de gradiente precisos. Específicamente, sabrás:\n",
    "\n",
    "- Cómo preparar datos en scikit-learn para el boosting de gradiente.\n",
    "- Cómo evaluar y visualizar modelos potenciados por gradiente.\n",
    "- Cómo guardar y cargar modelos entrenados de boosting de gradiente.\n",
    "- Cómo visualizar y evaluar la importancia de las variables de entrada.\n",
    "- Cómo configurar y ajustar los hiperparámetros de los modelos de boosting de gradiente.\n",
    "\n",
    "Hay varias maneras en que puedes leer este libro. Puedes sumergirte en los tutoriales según tus necesidades o intereses te motiven. Alternativamente, puedes trabajar a lo largo del libro de principio a fin y aprovechar cómo los tutoriales se vuelven más complejos y variados. Recomiendo este último enfoque.\n",
    "\n",
    "Para aprovechar al máximo este libro, te recomiendo que tomes cada tutorial y lo desarrolles más allá. Intenta mejorar los resultados, aplica el método a un problema similar pero diferente, y así sucesivamente. Escribe lo que intentaste o aprendiste y compártelo en tu blog, en las redes sociales, o envíame un correo a jason@MachineLearningMastery.com. Este libro es realmente lo que hagas de él, y al poner un poco más de esfuerzo, puedes convertirte rápidamente en una verdadera fuerza en el campo del boosting de gradiente aplicado.\n",
    "\n",
    "### 1.4 Lo Que Este Libro No Es\n",
    "Este libro resuelve un problema específico: llevarte, como desarrollador, al nivel de aplicar XGBoost en tus propios proyectos de aprendizaje automático en Python. Por lo tanto, este libro no está diseñado para ser todo para todos, y es muy importante calibrar tus expectativas. Específicamente:\n",
    "\n",
    "- Este no es un libro de texto sobre boosting de gradiente. No cubriremos la teoría básica de cómo funcionan los algoritmos y técnicas relacionadas. No habrá ecuaciones. También se espera que tengas cierta familiaridad con los conceptos básicos del aprendizaje automático, o que seas capaz de profundizar en la teoría por tu cuenta si es necesario.\n",
    "\n",
    "- Este no es un libro de programación en Python. No dedicaremos mucho tiempo a la sintaxis de Python y a la programación (por ejemplo, tareas básicas de programación en Python). Se espera que ya estés familiarizado con Python o que seas un desarrollador que pueda aprender rápidamente un nuevo lenguaje similar a C.\n",
    "\n",
    "Aún puedes obtener mucho de este libro si tienes debilidades en una o dos de estas áreas, pero podrías tener dificultades al aprender el lenguaje o requerir alguna explicación adicional de las técnicas. Si este es el caso, consulta el capítulo \"Obteniendo Más Ayuda\" al final del libro y busca un buen texto de referencia complementario.\n",
    "\n",
    "### 1.5 Resumen\n",
    "Es un momento especial en este momento. Las herramientas para el boosting de gradiente rápido nunca han sido tan buenas, y XGBoost está en la cima. El ritmo de cambio en el aprendizaje automático aplicado parece nunca haber sido tan rápido, impulsado por los resultados sorprendentes que los métodos están mostrando en una amplia gama de campos. Este es el comienzo de tu viaje en el uso de XGBoost y estoy emocionado por ti. Tómate tu tiempo, diviértete, y estoy muy emocionado de ver a dónde puedes llevar esta increíble nueva tecnología.\n",
    "\n",
    "A continuación, en la Parte II, recibirás una introducción sencilla al algoritmo de boosting de gradiente según lo descrito por las fuentes primarias. Esto sentará las bases para comprender y utilizar la biblioteca XGBoost en Python."
   ]
  },
  {
   "cell_type": "markdown",
   "metadata": {},
   "source": [
    "## Parte II \n",
    "### Conceptos Basicos de XGBoost \n"
   ]
  },
  {
   "cell_type": "markdown",
   "metadata": {},
   "source": [
    "# Capitulo 2\n",
    "### Una Introducción Sencilla al Boosting de Gradiente\n",
    "\n",
    "El boosting de gradiente es una de las técnicas más poderosas para construir modelos predictivos. En este tutorial, descubrirás el algoritmo de aprendizaje automático de boosting de gradiente y recibirás una introducción sencilla sobre su origen y cómo funciona. Después de leer este tutorial, sabrás:\n",
    "\n",
    "- El origen del boosting en la teoría del aprendizaje y AdaBoost.\n",
    "- Cómo funciona el boosting de gradiente, incluyendo la función de pérdida, los aprendices débiles y el modelo aditivo.\n",
    "- Cómo mejorar el rendimiento sobre el algoritmo base con varios esquemas de regularización.\n",
    "\n",
    "Vamos a comenzar.\n",
    "\n",
    "### Origen del Boosting\n",
    "\n",
    "La idea del boosting surgió del cuestionamiento sobre si un aprendiz débil puede ser modificado para mejorar. Michael Kearns articuló el objetivo como el Problema de Potenciación de Hipótesis, estableciendo la meta desde un punto de vista práctico como:\n",
    "\n",
    "... un algoritmo eficiente para convertir hipótesis relativamente malas en hipótesis muy buenas.\n",
    "— Pensamientos sobre la Potenciación de Hipótesis, 1988.\n",
    "\n",
    "Una hipótesis débil o un aprendiz débil se define como aquel cuya performance es al menos ligeramente mejor que el azar. Estas ideas se basan en el trabajo de Leslie Valiant sobre el aprendizaje libre de distribución o Aprendizaje Aproximadamente Correcto (PAC), un marco para investigar la complejidad de los problemas de aprendizaje automático. La potenciación de hipótesis se basa en la idea de filtrar las observaciones, dejando aquellas que el aprendiz débil puede manejar y enfocándose en desarrollar nuevos aprendices débiles para manejar las observaciones difíciles restantes.\n",
    "\n",
    "La idea es utilizar el método de aprendizaje débil varias veces para obtener una sucesión de hipótesis, cada una refocalizada en los ejemplos que las anteriores encontraron difíciles y clasificaron incorrectamente. [...] Sin embargo, no es obvio en absoluto cómo se puede hacer esto.\n",
    "— Probablemente Aproximadamente Correcto, página 152, 2013."
   ]
  },
  {
   "cell_type": "markdown",
   "metadata": {},
   "source": [
    "\n",
    "### 2.2 AdaBoost: El Primer Algoritmo de Potenciación\n",
    "\n",
    "La primera realización del boosting que tuvo un gran éxito en su aplicación fue el **Adaptive Boosting**, o **AdaBoost** para abreviar.\n",
    "\n",
    "**Boosting** se refiere a este problema general de producir una regla de predicción muy precisa combinando reglas generales y moderadamente inexactas.\n",
    "— Una generalización teórica de la toma de decisiones del aprendizaje en línea y una aplicación al boosting, 1995.\n",
    "\n",
    "Los aprendices débiles en AdaBoost son árboles de decisión con una sola división, llamados **decision stumps** por su brevedad. AdaBoost funciona ponderando las observaciones, poniendo más peso en las instancias difíciles de clasificar y menos en aquellas que ya se manejaron bien. Se añaden nuevos aprendices débiles de manera secuencial que enfocan su entrenamiento en los patrones más difíciles.\n",
    "\n",
    "Esto significa que las muestras difíciles de clasificar reciben pesos cada vez mayores hasta que el algoritmo identifica un modelo que clasifica correctamente estas muestras.\n",
    "— Modelado Predictivo Aplicado, 2013.\n",
    "\n",
    "Las predicciones se realizan mediante el voto mayoritario de las predicciones de los aprendices débiles, ponderadas por su precisión individual. La forma más exitosa del algoritmo AdaBoost fue para problemas de clasificación binaria y se denominó **AdaBoost.M1**."
   ]
  },
  {
   "cell_type": "markdown",
   "metadata": {},
   "source": [
    "### 2.3 Generalización de AdaBoost como Gradient Boosting\n",
    "\n",
    "AdaBoost y algoritmos relacionados fueron reinterpretados en un marco estadístico por primera vez por Breiman, llamándolos algoritmos **ARCing**.\n",
    "\n",
    "**Arcing** es un acrónimo de **Adaptive Reweighting and Combining**. Cada paso en un algoritmo de arcing consiste en una minimización ponderada seguida de una recomputación de los clasificadores y de la entrada ponderada.\n",
    "— Juegos de Predicción y Algoritmos de Arching, 1997.\n",
    "\n",
    "Este marco fue desarrollado más adelante por Friedman y se denominó **Gradient Boosting Machines**, más tarde conocido simplemente como **gradient boosting** o **gradient tree boosting**. El marco estadístico en el que se enmarca el boosting como un problema de optimización numérica donde el objetivo es minimizar la pérdida del modelo mediante la adición de aprendices débiles utilizando un procedimiento similar al descenso de gradiente. Esta clase de algoritmos se describe como un **modelo aditivo por etapas**. Esto se debe a que se añade un nuevo aprendiz débil a la vez y los aprendices débiles existentes en el modelo se congelan y se mantienen sin cambios.\n",
    "\n",
    "Nota que esta estrategia por etapas es diferente de los enfoques paso a paso que reajustan los términos previamente ingresados cuando se añaden nuevos.\n",
    "— Aproximación de Funciones Codiciosa: Una Máquina de Gradient Boosting, 1999.\n",
    "\n",
    "La generalización permitió el uso de funciones de pérdida diferenciables arbitrarias, expandiendo la técnica más allá de problemas de clasificación binaria para soportar regresión, clasificación multicategoría y más."
   ]
  },
  {
   "cell_type": "markdown",
   "metadata": {},
   "source": [
    "### 2.4 Cómo Funciona el Gradient Boosting\n",
    "\n",
    "El **gradient boosting** involucra tres elementos principales:\n",
    "\n",
    "1. **Función de pérdida a optimizar**: Es la métrica que el modelo busca minimizar. La elección de la función de pérdida depende del tipo de problema (regresión, clasificación, etc.).\n",
    "\n",
    "2. **Aprendiz débil**: Un modelo simple que realiza predicciones. En el contexto del boosting, se utilizan modelos básicos como árboles de decisión con una sola división (stumps) o modelos de regresión lineal simples.\n",
    "\n",
    "3. **Modelo aditivo**: El modelo en el que se añaden los aprendices débiles de manera secuencial para minimizar la función de pérdida. Cada nuevo aprendiz débil se ajusta a los errores residuales de los modelos anteriores, mejorando la precisión global del modelo.\n",
    "\n",
    "En resumen, el proceso de gradient boosting construye un modelo robusto al añadir iterativamente aprendices débiles que corrigen los errores de los modelos previos, utilizando la optimización basada en gradientes para mejorar la precisión del modelo global."
   ]
  },
  {
   "cell_type": "markdown",
   "metadata": {},
   "source": [
    "### 2.4.1 Función de Pérdida\n",
    "\n",
    "La función de pérdida utilizada depende del tipo de problema que se está resolviendo. Debe ser diferenciable, pero se admiten muchas funciones de pérdida estándar y puedes definir la tuya propia. Por ejemplo, en regresión se puede usar el error cuadrático y en clasificación se puede usar la pérdida logarítmica. Un beneficio del marco de gradient boosting es que no es necesario derivar un nuevo algoritmo de boosting para cada función de pérdida que se desee utilizar; en su lugar, es un marco lo suficientemente genérico como para que se pueda usar cualquier función de pérdida diferenciable."
   ]
  },
  {
   "cell_type": "markdown",
   "metadata": {},
   "source": [
    "### 2.4.2 Aprendiz Débil\n",
    "\n",
    "Los **árboles de decisión** se utilizan como el aprendiz débil en gradient boosting. Específicamente, se utilizan árboles de regresión que producen valores reales para las divisiones y cuyos resultados se pueden sumar, permitiendo que los resultados de los modelos posteriores se sumen y corrijan los residuos en las predicciones. Los árboles se construyen de manera codiciosa, eligiendo los mejores puntos de división basados en puntuaciones de pureza como Gini o para minimizar la pérdida.\n",
    "\n",
    "Inicialmente, como en el caso de AdaBoost, se usaban árboles de decisión muy cortos que solo tenían una sola división, llamados **decision stumps**. Generalmente se pueden usar árboles más grandes, con entre 4 y 8 niveles. Es común restringir a los aprendices débiles de maneras específicas, como un número máximo de capas, nodos, divisiones o nodos hoja. Esto es para asegurar que los aprendices permanezcan débiles, pero aún así se pueden construir de manera codiciosa."
   ]
  },
  {
   "cell_type": "markdown",
   "metadata": {},
   "source": [
    "### 2.4.3 Modelo Aditivo\n",
    "\n",
    "Los árboles se añaden uno a la vez, y los árboles existentes en el modelo no se modifican. Se utiliza un procedimiento de descenso por gradiente para minimizar la pérdida al añadir árboles. Tradicionalmente, el descenso por gradiente se usa para minimizar un conjunto de parámetros, como los coeficientes en una ecuación de regresión o los pesos en una red neuronal. Después de calcular el error o la pérdida, se actualizan los pesos para minimizar ese error.\n",
    "\n",
    "En lugar de parámetros, tenemos sub-modelos de aprendices débiles o, más específicamente, árboles de decisión. Después de calcular la pérdida, para realizar el procedimiento de descenso por gradiente, debemos añadir un árbol al modelo que reduzca la pérdida (es decir, seguir el gradiente). Hacemos esto parametrizando el árbol, luego modificamos los parámetros del árbol y nos movemos en la dirección correcta (reduciendo la pérdida residual). Generalmente, este enfoque se llama descenso por gradiente funcional o descenso por gradiente con funciones.\n",
    "\n",
    "Una forma de producir una combinación ponderada de clasificadores que optimice el costo es mediante descenso por gradiente en el espacio de funciones.\n",
    "— Algoritmos de Boosting como Descenso por Gradiente en el Espacio de Funciones, 1999.\n",
    "\n",
    "La salida del nuevo árbol se añade luego a la salida de la secuencia existente de árboles en un esfuerzo por corregir o mejorar la salida final del modelo. Se añaden un número fijo de árboles o el entrenamiento se detiene una vez que la pérdida alcanza un nivel aceptable o ya no mejora en un conjunto de datos de validación externo."
   ]
  },
  {
   "cell_type": "markdown",
   "metadata": {},
   "source": [
    "### 2.5 Mejoras al Gradient Boosting Básico\n",
    "\n",
    "El **gradient boosting** es un algoritmo codicioso y puede sobreajustar rápidamente un conjunto de datos de entrenamiento. Puede beneficiarse de métodos de regularización que penalizan diversas partes del algoritmo y, en general, mejoran el rendimiento del algoritmo al reducir el sobreajuste. En esta sección, examinaremos 4 mejoras al gradient boosting básico:\n",
    "\n",
    "1. **Restricciones de Árboles**: Limitar la complejidad de los árboles, como el número máximo de niveles, nodos o divisiones, para evitar que los árboles se vuelvan demasiado complejos y sobreajusten los datos.\n",
    "\n",
    "2. **Reducción (Shrinkage)**: También conocida como **reducción de tasa de aprendizaje**. Consiste en multiplicar las actualizaciones de los árboles por un factor menor a 1. Esto ralentiza el proceso de aprendizaje, permitiendo que el modelo se ajuste de manera más controlada y minimizando el riesgo de sobreajuste.\n",
    "\n",
    "3. **Muestreo Aleatorio**: Se refiere a técnicas como el **submuestreo de datos** o el **submuestreo de características** en cada iteración para entrenar los árboles. Esto introduce variabilidad en el proceso de entrenamiento y ayuda a reducir el sobreajuste al evitar que el modelo dependa demasiado de cualquier subconjunto particular de los datos.\n",
    "\n",
    "4. **Aprendizaje Penalizado**: Incorporar penalizaciones en el proceso de entrenamiento, como la penalización L1 o L2, para evitar que el modelo ajuste demasiado los datos y mejorar la generalización. Esto puede ayudar a reducir el impacto de las características menos relevantes y mejorar la robustez del modelo.\n",
    "\n",
    "Estas mejoras ayudan a que el algoritmo de gradient boosting sea más robusto y efectivo en una variedad de contextos, reduciendo el riesgo de sobreajuste y mejorando su capacidad de generalización."
   ]
  },
  {
   "cell_type": "markdown",
   "metadata": {},
   "source": [
    "### 2.5.1 Restricciones de Árboles\n",
    "\n",
    "Es importante que los aprendices débiles tengan habilidad pero permanezcan débiles. Existen varias formas de restringir la construcción de los árboles. Una buena heurística general es que cuanto más restringida sea la creación de árboles, más árboles necesitarás en el modelo, y al contrario, con árboles menos restringidos, se requerirán menos árboles. A continuación se presentan algunas restricciones que se pueden imponer en la construcción de árboles de decisión:\n",
    "\n",
    "- **Número de árboles**: En general, añadir más árboles al modelo puede ser muy lento para sobreajustar. El consejo es seguir añadiendo árboles hasta que no se observe una mejora adicional.\n",
    "\n",
    "- **Profundidad del árbol**: Los árboles más profundos son más complejos, y se prefieren árboles más cortos. Generalmente, se obtienen mejores resultados con entre 4 y 8 niveles.\n",
    "\n",
    "- **Número de nodos o número de hojas**: Al igual que la profundidad, esto puede restringir el tamaño del árbol, pero no está limitado a una estructura simétrica si se utilizan otras restricciones.\n",
    "\n",
    "- **Número de observaciones por división**: Impone una restricción mínima en la cantidad de datos de entrenamiento en un nodo de entrenamiento antes de que se pueda considerar una división.\n",
    "\n",
    "- **Mejora mínima de la pérdida**: Es una restricción sobre la mejora de cualquier división añadida a un árbol. Esto asegura que solo se añadan divisiones que proporcionen una mejora significativa en la reducción de la pérdida."
   ]
  },
  {
   "cell_type": "markdown",
   "metadata": {},
   "source": [
    "### 2.5.2 Actualizaciones Ponderadas\n",
    "\n",
    "Las predicciones de cada árbol se suman secuencialmente. La contribución de cada árbol a esta suma puede ser ponderada para ralentizar el aprendizaje del algoritmo. Este ponderado se llama **reducción** o **tasa de aprendizaje**.\n",
    "\n",
    "Cada actualización se escala simplemente por el valor del **parámetro de tasa de aprendizaje v**.\n",
    "— Aproximación de Funciones Codiciosa: Una Máquina de Gradient Boosting, 1999.\n",
    "\n",
    "El efecto es que el aprendizaje se ralentiza, lo que a su vez requiere añadir más árboles al modelo, tomando más tiempo para entrenar y proporcionando un equilibrio de configuración entre el número de árboles y la tasa de aprendizaje.\n",
    "\n",
    "Disminuir el valor de $v$ [la tasa de aprendizaje] aumenta el mejor valor para $M$ [el número de árboles].\n",
    "— Aproximación de Funciones Codiciosa: Una Máquina de Gradient Boosting, 1999.\n",
    "\n",
    "Es común tener valores pequeños en el rango de 0.1 a 0.3, así como valores menores de 0.1. Similar a una tasa de aprendizaje en la optimización estocástica, la reducción disminuye la influencia de cada árbol individual y deja espacio para que los árboles futuros mejoren el modelo.\n",
    "— Gradient Boosting Estocástico, 1999."
   ]
  },
  {
   "cell_type": "markdown",
   "metadata": {},
   "source": [
    "### 2.5.3 Gradient Boosting Estocástico\n",
    "\n",
    "Una gran idea de los conjuntos de bagging y los bosques aleatorios fue permitir que los árboles se crearan codiciosamente a partir de submuestras del conjunto de datos de entrenamiento. Este mismo beneficio se puede utilizar para reducir la correlación entre los árboles en la secuencia en los modelos de gradient boosting. Esta variación del boosting se llama **gradient boosting estocástico**.\n",
    "\n",
    "En cada iteración, se extrae al azar (sin reemplazo) una submuestra de los datos de entrenamiento del conjunto de datos completo. La submuestra seleccionada al azar se utiliza, en lugar de la muestra completa, para ajustar el aprendiz base.\n",
    "— Gradient Boosting Estocástico, 1999.\n",
    "\n",
    "Algunas variantes del boosting estocástico que se pueden utilizar son:\n",
    "- Submuestreo de filas antes de crear cada árbol.\n",
    "- Submuestreo de columnas antes de crear cada árbol.\n",
    "- Submuestreo de columnas antes de considerar cada división.\n",
    "\n",
    "En general, el submuestreo agresivo, como seleccionar solo el 50% de los datos, ha demostrado ser beneficioso.\n",
    "\n",
    "Según la retroalimentación de los usuarios, el uso de submuestreo de columnas previene aún más el sobreajuste en comparación con el submuestreo de filas tradicional.\n",
    "— XGBoost: Un Sistema de Boosting de Árboles Escalable, 2016."
   ]
  },
  {
   "cell_type": "markdown",
   "metadata": {},
   "source": [
    "### 2.5.4 Gradient Boosting Penalizado\n",
    "\n",
    "Se pueden imponer restricciones adicionales a los árboles parametrizados además de su estructura. Los árboles de decisión clásicos, como los CART, no se utilizan como aprendices débiles; en su lugar, se utiliza una forma modificada llamada **árbol de regresión** que tiene valores numéricos en los nodos hoja (también llamados nodos terminales). Los valores en las hojas de los árboles pueden ser llamados pesos en algunas literaturas. Por lo tanto, los valores de peso en las hojas de los árboles pueden ser regularizados utilizando funciones de regularización populares, tales como:\n",
    "\n",
    "- **Regularización $L^1$** de los pesos.\n",
    "- **Regularización $L^2$** de los pesos.\n",
    "\n",
    "El término adicional de regularización ayuda a suavizar los pesos finales aprendidos para evitar el sobreajuste. Intuitivamente, el objetivo regularizado tenderá a seleccionar un modelo que emplee funciones simples y predictivas.\n",
    "— XGBoost: Un Sistema de Boosting de Árboles Escalable, 2016."
   ]
  },
  {
   "cell_type": "markdown",
   "metadata": {},
   "source": [
    "### 2.6 Resumen\n",
    "\n",
    "En este tutorial, descubriste el algoritmo de **gradient boosting** para modelado predictivo en aprendizaje automático. Ahora tienes una comprensión general del algoritmo de gradient boosting, así como de las variaciones comunes de la técnica. Específicamente, aprendiste:\n",
    "\n",
    "- La historia del boosting en la teoría del aprendizaje y **AdaBoost**.\n",
    "- Cómo funciona el algoritmo de gradient boosting con una función de pérdida, aprendices débiles y un modelo aditivo.\n",
    "- Cómo mejorar el rendimiento del gradient boosting con regularización.\n",
    "\n",
    "En la siguiente sección, comenzarás a usar la biblioteca **XGBoost**, empezando con una introducción suave a la biblioteca XGBoost en sí."
   ]
  },
  {
   "cell_type": "markdown",
   "metadata": {},
   "source": [
    "# Capitulo 3 \n",
    "\n",
    "### Una Introducción Suave a XGBoost\n",
    "\n",
    "**XGBoost** es un algoritmo que ha dominado recientemente el aprendizaje automático aplicado y las competencias de Kaggle para datos estructurados o tabulares. XGBoost es una implementación de árboles de decisión potenciados por gradient boosting, diseñado para velocidad y rendimiento. En este tutorial, descubrirás XGBoost y obtendrás una introducción suave a lo que es, de dónde proviene y cómo puedes aprender más. Después de leer este tutorial, sabrás:\n",
    "\n",
    "- Qué es XGBoost y los objetivos del proyecto.\n",
    "- Por qué XGBoost debe formar parte de tu caja de herramientas de aprendizaje automático.\n",
    "- Dónde puedes aprender más para comenzar a usar XGBoost en tu próximo proyecto de aprendizaje automático.\n",
    "\n",
    "¡Comencemos!"
   ]
  },
  {
   "cell_type": "markdown",
   "metadata": {},
   "source": [
    "### 3.1 ¿Qué es XGBoost?\n",
    "\n",
    "**XGBoost** significa eXtreme Gradient Boosting.\n",
    "\n",
    "El nombre **xgboost** se refiere, en realidad, al objetivo de ingeniería de llevar al límite los recursos computacionales para algoritmos de árboles potenciados. Esta es la razón por la cual muchas personas utilizan xgboost.\n",
    "— Tianqi Chen, en Quora.com.\n",
    "\n",
    "Es una implementación de **gradient boosting machines** creada por Tianqi Chen, ahora con contribuciones de muchos desarrolladores. Pertenece a una colección más amplia de herramientas bajo el paraguas de la **Distributed Machine Learning Community (DMLC)**, quienes también son los creadores de la popular biblioteca de aprendizaje profundo **mxnet**. Tianqi Chen proporciona una breve e interesante historia sobre la creación de XGBoost en el tutorial **\"Historia y Lecciones Detrás de la Evolución de XGBoost\"**.\n",
    "\n",
    "XGBoost es una biblioteca de software que puedes descargar e instalar en tu máquina, y luego acceder desde una variedad de interfaces. Específicamente, XGBoost soporta las siguientes interfaces principales:\n",
    "__________________________________________________\n",
    "1http://dmlc.ml\n",
    "\n",
    "2http://goo.gl/QiIq99\n",
    "\n",
    "- **Interfaz de Línea de Comandos (CLI)**.\n",
    "- **C++** (el lenguaje en el que está escrita la biblioteca).\n",
    "- **Interfaz de Python** así como un modelo en **scikit-learn**.\n",
    "- **Interfaz de R** así como un modelo en el paquete **caret**.\n",
    "- **Soporte para Julia**.\n",
    "- **Java y lenguajes JVM** como Scala y plataformas como Hadoop."
   ]
  },
  {
   "cell_type": "markdown",
   "metadata": {},
   "source": [
    "### 3.2 Características de XGBoost\n",
    "\n",
    "La biblioteca está enfocada en la velocidad computacional y el rendimiento del modelo, por lo que tiene pocas extravagancias. No obstante, ofrece varias características avanzadas."
   ]
  },
  {
   "cell_type": "markdown",
   "metadata": {},
   "source": [
    "### 3.2.1 Características del Modelo\n",
    "\n",
    "La implementación del modelo soporta las características de las implementaciones de **scikit-learn** y **R**, con adiciones nuevas como la regularización. Se soportan tres formas principales de gradient boosting:\n",
    "\n",
    "- **Algoritmo de Gradient Boosting**, también llamado **máquina de gradient boosting**, que incluye la tasa de aprendizaje.\n",
    "- **Gradient Boosting Estocástico**, con submuestreo a nivel de filas, columnas y columnas por división.\n",
    "- **Gradient Boosting Regularizado**, con regularización tanto $L^1$ como $L^2$."
   ]
  },
  {
   "cell_type": "markdown",
   "metadata": {},
   "source": [
    "### 3.2.2 Características del Sistema\n",
    "\n",
    "La biblioteca proporciona un sistema para su uso en una variedad de entornos de computación, entre ellos:\n",
    "\n",
    "- **Paralelización** de la construcción de árboles utilizando todos los núcleos de CPU durante el entrenamiento.\n",
    "- **Computación Distribuida** para entrenar modelos muy grandes utilizando un clúster de máquinas.\n",
    "- **Computación Fuera de Núcleo** para conjuntos de datos muy grandes que no caben en la memoria.\n",
    "- **Optimización de Caché** de estructuras de datos y algoritmos para aprovechar al máximo el hardware."
   ]
  },
  {
   "cell_type": "markdown",
   "metadata": {},
   "source": [
    "### 3.2.3 Características del Algoritmo\n",
    "\n",
    "La implementación del algoritmo fue diseñada para la eficiencia en el tiempo de cómputo y los recursos de memoria. Un objetivo del diseño fue hacer el mejor uso posible de los recursos disponibles para entrenar el modelo. Algunas características clave de la implementación del algoritmo incluyen:\n",
    "\n",
    "- **Implementación Consciente de Datos Escasos** con manejo automático de valores de datos faltantes.\n",
    "- **Estructura en Bloques** para soportar la paralelización en la construcción de árboles.\n",
    "- **Entrenamiento Continuo** para que puedas seguir potenciando un modelo ya ajustado con nuevos datos.\n",
    "\n",
    "XGBoost es software libre de código abierto disponible para su uso bajo la licencia permisiva **Apache-2**."
   ]
  },
  {
   "cell_type": "markdown",
   "metadata": {},
   "source": [
    "### 3.3 ¿Por qué usar XGBoost?\n",
    "\n",
    "Las dos razones para usar XGBoost también son los dos objetivos del proyecto:\n",
    "\n",
    "1. **Velocidad de Ejecución**.\n",
    "2. **Rendimiento del Modelo**."
   ]
  },
  {
   "cell_type": "markdown",
   "metadata": {},
   "source": [
    "### 3.3.1 Velocidad de Ejecución de XGBoost\n",
    "\n",
    "En general, **XGBoost** es rápido. Realmente rápido en comparación con otras implementaciones de **gradient boosting**. Szilard Pafka realizó algunas pruebas objetivas comparando el rendimiento de XGBoost con otras implementaciones de gradient boosting y árboles de decisión con bagging. Publicó sus resultados en mayo de 2015 en el blog tutorial titulado **\"Benchmarking Random Forest Implementations\"**.\n",
    "\n",
    "También proporciona todo el código en **GitHub** y un informe más extenso de los resultados con cifras concretas. Sus resultados mostraron que XGBoost era casi siempre más rápido que las otras implementaciones comparadas de **R**, **Python Spark** y **H2O**. Según su experimento, comentó:\n",
    "\n",
    "> \"También probé xgboost, una biblioteca popular para boosting que también es capaz de construir bosques aleatorios. Es rápida, eficiente en memoria y de alta precisión.\"\n",
    "— **Benchmarking Random Forest Implementations**, Szilard Pafka."
   ]
  },
  {
   "cell_type": "markdown",
   "metadata": {},
   "source": [
    "### 3.3.2 Rendimiento del Modelo de XGBoost\n",
    "\n",
    "XGBoost domina en problemas de modelado predictivo de clasificación y regresión para conjuntos de datos estructurados o tabulares. La evidencia de su eficacia es que es el algoritmo preferido por los ganadores de competiciones en la plataforma de ciencia de datos competitiva **Kaggle**. Por ejemplo, hay una lista incompleta de ganadores del primer, segundo y tercer lugar en competiciones que usaron XGBoost titulada: **\"XGBoost: Soluciones Ganadoras de Desafíos de Machine Learning\"$^5$**. Para hacer este punto más tangible, a continuación se presentan algunas citas perspicaces de los ganadores de competiciones de Kaggle:\n",
    "\n",
    "> \"Como ganador de una creciente cantidad de competiciones de Kaggle, XGBoost nos ha demostrado nuevamente ser un gran algoritmo versátil que vale la pena tener en tu caja de herramientas.\"\n",
    "— Entrevista a los Ganadores de Dato, **Mad Professors $^6$**.\n",
    "\n",
    "_______________________________________________________________\n",
    "3http://datascience.la/benchmarking-random-forest-implementations/\n",
    "4https://github.com/szilard/benchm-ml\n",
    "5https://github.com/dmlc/xgboost/tree/master/demo\n",
    "6http://goo.gl/AHkmWx\n",
    "\n",
    "\n",
    "> \"Cuando tengas dudas, usa XGBoost.\"\n",
    "— Entrevista al Ganador de Avito, Owen Zhang.\n",
    "\n",
    "> \"Me encantan los modelos individuales que funcionan bien, y mi mejor modelo individual fue un XGBoost que logró el décimo lugar por sí solo.\"\n",
    "— Entrevista a los Ganadores de Caterpillar.\n",
    "\n",
    "> \"Solo usé XGBoost.\"\n",
    "— Entrevista al Ganador de Inspección de Propiedades de Liberty Mutual, Qingchen Wang.\n",
    "\n",
    "> \"El único método de aprendizaje supervisado que utilicé fue el gradient boosting, tal como se implementa en el excelente paquete XGBoost.\"\n",
    "— Entrevista al Ganador de Compra de Cupones de Recruit, Halla Yang."
   ]
  },
  {
   "cell_type": "markdown",
   "metadata": {},
   "source": [
    "### 3.4 ¿Qué Algoritmo Utiliza XGBoost?\n",
    "\n",
    "La biblioteca XGBoost implementa el algoritmo de **árboles de decisión con gradient boosting**. Este algoritmo es conocido por varios nombres, como **gradient boosting**, **árboles de regresión aditivos múltiples**, **gradient boosting estocástico** o **máquinas de gradient boosting**. El **boosting** es una técnica de ensamblaje donde se añaden nuevos modelos para corregir los errores cometidos por los modelos existentes. Los modelos se añaden secuencialmente hasta que no se pueden hacer más mejoras. Un ejemplo popular es el algoritmo **AdaBoost**, que pondera los puntos de datos que son difíciles de predecir.\n",
    "\n",
    "El **gradient boosting** es un enfoque en el que se crean nuevos modelos que predicen los residuos o errores de los modelos anteriores y luego se suman para hacer la predicción final. Se llama **gradient boosting** porque utiliza un algoritmo de descenso de gradiente para minimizar la pérdida al añadir nuevos modelos. Este enfoque admite problemas de modelado predictivo tanto de regresión como de clasificación."
   ]
  },
  {
   "cell_type": "markdown",
   "metadata": {},
   "source": [
    "### 3.5 Resumen\n",
    "\n",
    "En este tutorial, descubriste **XGBoost** y por qué es tan popular en el aprendizaje automático aplicado. Aprendiste:\n",
    "\n",
    "- Que **XGBoost** es una biblioteca para desarrollar modelos de árboles de decisión con **gradient boosting** rápidos y de alto rendimiento.\n",
    "- Que **XGBoost** está logrando el mejor rendimiento en una variedad de tareas difíciles de aprendizaje automático.\n",
    "- Que puedes usar esta biblioteca desde la línea de comandos, **Python** y **R**, y cómo empezar.\n",
    "\n",
    "En el siguiente tutorial, desarrollarás tu primer modelo de **XGBoost** desde cero.\n",
    "\n",
    "_____________________________________________________________\n",
    "7http://goo.gl/sGyGtu\n",
    "8http://goo.gl/Sku8vw\n",
    "9http://goo.gl/0LTOBl\n",
    "10http://goo.gl/wTUH7y"
   ]
  },
  {
   "cell_type": "markdown",
   "metadata": {},
   "source": [
    "# Capitulo 4 "
   ]
  },
  {
   "cell_type": "markdown",
   "metadata": {},
   "source": [
    "### Desarrolla Tu Primer Modelo de XGBoost en Python con scikit-learn\n",
    "\n",
    "**XGBoost** es una implementación de árboles de decisión con gradient boosting, diseñada para velocidad y rendimiento, que domina el aprendizaje automático competitivo. En este tutorial, descubrirás cómo instalar y crear tu primer modelo de **XGBoost** en **Python**. Después de leer este tutorial, sabrás:\n",
    "\n",
    "- Cómo instalar **XGBoost** en tu sistema para su uso en **Python**.\n",
    "- Cómo preparar los datos y entrenar tu primer modelo de **XGBoost**.\n",
    "- Cómo hacer predicciones usando tu modelo de **XGBoost**.\n",
    "\n",
    "¡Vamos a empezar!"
   ]
  },
  {
   "cell_type": "markdown",
   "metadata": {},
   "source": [
    "### Instalación de XGBoost\n",
    "\n",
    "Si ya tienes un entorno **SciPy** en funcionamiento, puedes instalar **XGBoost** fácilmente usando `pip`. Por ejemplo:\n",
    "\n",
    "```bash\n",
    "pip install xgboost\n",
    "```\n",
    "\n",
    "Este comando descargará e instalará la biblioteca **XGBoost** y sus dependencias en tu entorno de **Python**. Una vez completada la instalación, podrás importar **XGBoost** y comenzar a desarrollar modelos.\n",
    "\n",
    "Para actualizar tu instalación de **XGBoost**, puedes usar el siguiente comando:\n",
    "\n",
    "```bash\n",
    "pip install --upgrade xgboost\n",
    "```\n",
    "\n",
    "Este comando actualizará **XGBoost** a la versión más reciente disponible en el repositorio de **pip**.\n",
    "\n",
    "Para instalar **XGBoost** de forma alternativa, si no puedes usar `pip` o si deseas ejecutar el código más reciente desde **GitHub**, debes clonar el proyecto de **XGBoost** y realizar una construcción e instalación manual. Por ejemplo, para construir **XGBoost** sin multithreading en **Mac OS X** (con **GCC** ya instalado a través de **macports** o **homebrew**), puedes seguir estos pasos:\n",
    "\n",
    "1. Clona el repositorio de **XGBoost**:\n",
    "\n",
    "   ```bash\n",
    "   git clone --recursive https://github.com/dmlc/xgboost\n",
    "   ```\n",
    "\n",
    "2. Navega al directorio del proyecto:\n",
    "\n",
    "   ```bash\n",
    "   cd xgboost\n",
    "   ```\n",
    "\n",
    "3. Construye e instala **XGBoost**:\n",
    "\n",
    "   ```bash\n",
    "   mkdir build\n",
    "   cd build\n",
    "   cmake .. -DGBM_USE_CUDA=OFF\n",
    "   make -j$(sysctl -n hw.ncpu)\n",
    "   ```\n",
    "\n",
    "4. Instala **XGBoost**:\n",
    "\n",
    "   ```bash\n",
    "   cd ../python-package\n",
    "   python setup.py install\n",
    "   ```\n",
    "\n",
    "Esto construirá e instalará **XGBoost** desde el código fuente en tu sistema. Asegúrate de tener todas las herramientas necesarias para la construcción, como **CMake** y **GCC**, instaladas en tu máquina.\n",
    "\n",
    "A continuación, algunos recursos para ayudarte con la instalación de la biblioteca **XGBoost** en tu plataforma:\n",
    "\n",
    "- Puedes aprender más sobre cómo instalar **XGBoost** para diferentes plataformas en la [Guía de Instalación de XGBoost](http://xgboost.readthedocs.io/en/latest/build.html).\n",
    "\n",
    "- Para instrucciones actualizadas sobre la instalación de **XGBoost** para **Python**, consulta el [Paquete de Python de XGBoost](https://github.com/dmlc/xgboost/tree/master/python-package).\n",
    "\n",
    "**XGBoost v0.6** es la versión más reciente en el momento de escribir esto y es la utilizada en este libro."
   ]
  },
  {
   "cell_type": "markdown",
   "metadata": {},
   "source": [
    "### 4.2 Descripción del Problema: Predicción del Inicio de Diabetes\n",
    "\n",
    "En este tutorial, vamos a utilizar el conjunto de datos de inicio de diabetes de los Indios Pima. Este conjunto de datos está compuesto por 8 variables de entrada que describen detalles médicos de los pacientes y una variable de salida que indica si el paciente desarrollará diabetes en un plazo de 5 años. Puedes aprender más sobre este conjunto de datos en el sitio web de [UCI Machine Learning Repository](https://archive.ics.uci.edu/ml/datasets/Pima+Indians+Diabetes).\n",
    "\n",
    "Este es un buen conjunto de datos para un primer modelo con **XGBoost** porque todas las variables de entrada son numéricas y el problema es una simple clasificación binaria. No es necesariamente un problema ideal para el algoritmo **XGBoost** porque se trata de un conjunto de datos relativamente pequeño y un problema fácil de modelar.\n",
    "\n",
    "Descarga este conjunto de datos y colócalo en tu directorio de trabajo actual con el nombre de archivo `pima-indians-diabetes.csv`. Puedes descargarlo desde el siguiente enlace:\n",
    "\n",
    "[Descargar conjunto de datos de diabetes de los Indios Pima](https://archive.ics.uci.edu/ml/machine-learning-databases/pima-indians-diabetes/pima-indians-diabetes.data)\n",
    "\n",
    "Después de descargarlo, asegúrate de cambiar el nombre del archivo a `pima-indians-diabetes.csv` y guardarlo en el directorio donde estés trabajando con tu código Python."
   ]
  },
  {
   "cell_type": "markdown",
   "metadata": {},
   "source": [
    "### 4.3 Carga y preparacion de los datos \n",
    "\n",
    "En esta sección, cargaremos los datos desde el archivo y los prepararemos para su uso en el entrenamiento y la evaluación de un modelo XGBoost. Comenzaremos importando las clases y funciones que utilizaremos en este tutorial."
   ]
  },
  {
   "cell_type": "code",
   "execution_count": 1,
   "metadata": {},
   "outputs": [],
   "source": [
    "import pandas as pd\n",
    "import xgboost\n",
    "import matplotlib.pyplot as plt\n",
    "from numpy import loadtxt\n",
    "from xgboost import XGBClassifier\n",
    "from sklearn.model_selection import train_test_split\n",
    "from sklearn.metrics import accuracy_score\n",
    "\n",
    "from xgboost import plot_tree\n",
    "\n",
    "import warnings\n",
    "warnings.filterwarnings('ignore')\n"
   ]
  },
  {
   "cell_type": "markdown",
   "metadata": {},
   "source": [
    "A continuación, podemos cargar el archivo CSV como un array de NumPy utilizando la función `loadtxt()` de NumPy."
   ]
  },
  {
   "cell_type": "code",
   "execution_count": 2,
   "metadata": {},
   "outputs": [],
   "source": [
    "# load data\n",
    "# dataset = loadtxt('DataFrames/diabetes.csv', delimiter=\",\")\n"
   ]
  },
  {
   "cell_type": "code",
   "execution_count": 3,
   "metadata": {},
   "outputs": [],
   "source": [
    "# Cargar datos \n",
    "\n",
    "dataset = pd.read_csv('DataFrames/diabetes.csv', delimiter=\",\")"
   ]
  },
  {
   "cell_type": "markdown",
   "metadata": {},
   "source": [
    "Debemos separar las columnas (atributos o características) del conjunto de datos en patrones de entrada (X) y patrones de salida (Y). Podemos hacer esto fácilmente especificando los índices de las columnas en el formato de array de NumPy."
   ]
  },
  {
   "cell_type": "code",
   "execution_count": 4,
   "metadata": {},
   "outputs": [],
   "source": [
    "# datos como un array de numpy\n",
    "dataset = dataset.values\n",
    "\n",
    "# split data into X and y\n",
    "X = dataset[:,0:8]\n",
    "Y = dataset[:,8]\n"
   ]
  },
  {
   "cell_type": "code",
   "execution_count": 5,
   "metadata": {},
   "outputs": [],
   "source": [
    "# Dividir los datos en X y Y\n",
    "# X = dataset.iloc[:, 0:8].values\n",
    "# Y = dataset.iloc[:, 8].values"
   ]
  },
  {
   "cell_type": "markdown",
   "metadata": {},
   "source": [
    "Finalmente, debemos dividir los datos de X e Y en un conjunto de entrenamiento y un conjunto de prueba. El conjunto de entrenamiento se utilizará para preparar el modelo XGBoost, y el conjunto de prueba se utilizará para hacer nuevas predicciones, a partir de las cuales podremos evaluar el rendimiento del modelo. Para esto, utilizaremos la función `train_test_split()` de la biblioteca scikit-learn. También especificamos una semilla para el generador de números aleatorios, de modo que siempre obtengamos la misma división de datos cada vez que se ejecute este ejemplo."
   ]
  },
  {
   "cell_type": "code",
   "execution_count": 6,
   "metadata": {},
   "outputs": [],
   "source": [
    "# Separacion de datos en entrenamiento y prueba \n",
    "\n",
    "seed = 7\n",
    "test_size = 0.33\n",
    "X_train, X_test, y_train, y_test = train_test_split(X, Y, test_size = test_size, \n",
    "                                                    random_state = seed)"
   ]
  },
  {
   "cell_type": "markdown",
   "metadata": {},
   "source": [
    "Ahora estamos listos para entrenar nuestro modelo."
   ]
  },
  {
   "cell_type": "markdown",
   "metadata": {},
   "source": [
    "#### 4.4 Entrenamiento del Modelo XGBoost  \n",
    "\n",
    "XGBoost ofrece una clase envoltura que permite tratar los modelos como clasificadores o regresores en el marco de trabajo de scikit-learn. Esto significa que podemos utilizar toda la biblioteca de scikit-learn con los modelos XGBoost. El modelo XGBoost para clasificación se llama **XGBClassifier**. Podemos crear y ajustarlo a nuestro conjunto de datos de entrenamiento. Los modelos se ajustan utilizando la API de scikit-learn y la función **model.fit()**. Los parámetros para entrenar el modelo pueden pasarse al modelo en el constructor. Aquí, utilizamos los valores predeterminados razonables."
   ]
  },
  {
   "cell_type": "code",
   "execution_count": 7,
   "metadata": {},
   "outputs": [
    {
     "data": {
      "text/html": [
       "<style>#sk-container-id-1 {color: black;}#sk-container-id-1 pre{padding: 0;}#sk-container-id-1 div.sk-toggleable {background-color: white;}#sk-container-id-1 label.sk-toggleable__label {cursor: pointer;display: block;width: 100%;margin-bottom: 0;padding: 0.3em;box-sizing: border-box;text-align: center;}#sk-container-id-1 label.sk-toggleable__label-arrow:before {content: \"▸\";float: left;margin-right: 0.25em;color: #696969;}#sk-container-id-1 label.sk-toggleable__label-arrow:hover:before {color: black;}#sk-container-id-1 div.sk-estimator:hover label.sk-toggleable__label-arrow:before {color: black;}#sk-container-id-1 div.sk-toggleable__content {max-height: 0;max-width: 0;overflow: hidden;text-align: left;background-color: #f0f8ff;}#sk-container-id-1 div.sk-toggleable__content pre {margin: 0.2em;color: black;border-radius: 0.25em;background-color: #f0f8ff;}#sk-container-id-1 input.sk-toggleable__control:checked~div.sk-toggleable__content {max-height: 200px;max-width: 100%;overflow: auto;}#sk-container-id-1 input.sk-toggleable__control:checked~label.sk-toggleable__label-arrow:before {content: \"▾\";}#sk-container-id-1 div.sk-estimator input.sk-toggleable__control:checked~label.sk-toggleable__label {background-color: #d4ebff;}#sk-container-id-1 div.sk-label input.sk-toggleable__control:checked~label.sk-toggleable__label {background-color: #d4ebff;}#sk-container-id-1 input.sk-hidden--visually {border: 0;clip: rect(1px 1px 1px 1px);clip: rect(1px, 1px, 1px, 1px);height: 1px;margin: -1px;overflow: hidden;padding: 0;position: absolute;width: 1px;}#sk-container-id-1 div.sk-estimator {font-family: monospace;background-color: #f0f8ff;border: 1px dotted black;border-radius: 0.25em;box-sizing: border-box;margin-bottom: 0.5em;}#sk-container-id-1 div.sk-estimator:hover {background-color: #d4ebff;}#sk-container-id-1 div.sk-parallel-item::after {content: \"\";width: 100%;border-bottom: 1px solid gray;flex-grow: 1;}#sk-container-id-1 div.sk-label:hover label.sk-toggleable__label {background-color: #d4ebff;}#sk-container-id-1 div.sk-serial::before {content: \"\";position: absolute;border-left: 1px solid gray;box-sizing: border-box;top: 0;bottom: 0;left: 50%;z-index: 0;}#sk-container-id-1 div.sk-serial {display: flex;flex-direction: column;align-items: center;background-color: white;padding-right: 0.2em;padding-left: 0.2em;position: relative;}#sk-container-id-1 div.sk-item {position: relative;z-index: 1;}#sk-container-id-1 div.sk-parallel {display: flex;align-items: stretch;justify-content: center;background-color: white;position: relative;}#sk-container-id-1 div.sk-item::before, #sk-container-id-1 div.sk-parallel-item::before {content: \"\";position: absolute;border-left: 1px solid gray;box-sizing: border-box;top: 0;bottom: 0;left: 50%;z-index: -1;}#sk-container-id-1 div.sk-parallel-item {display: flex;flex-direction: column;z-index: 1;position: relative;background-color: white;}#sk-container-id-1 div.sk-parallel-item:first-child::after {align-self: flex-end;width: 50%;}#sk-container-id-1 div.sk-parallel-item:last-child::after {align-self: flex-start;width: 50%;}#sk-container-id-1 div.sk-parallel-item:only-child::after {width: 0;}#sk-container-id-1 div.sk-dashed-wrapped {border: 1px dashed gray;margin: 0 0.4em 0.5em 0.4em;box-sizing: border-box;padding-bottom: 0.4em;background-color: white;}#sk-container-id-1 div.sk-label label {font-family: monospace;font-weight: bold;display: inline-block;line-height: 1.2em;}#sk-container-id-1 div.sk-label-container {text-align: center;}#sk-container-id-1 div.sk-container {/* jupyter's `normalize.less` sets `[hidden] { display: none; }` but bootstrap.min.css set `[hidden] { display: none !important; }` so we also need the `!important` here to be able to override the default hidden behavior on the sphinx rendered scikit-learn.org. See: https://github.com/scikit-learn/scikit-learn/issues/21755 */display: inline-block !important;position: relative;}#sk-container-id-1 div.sk-text-repr-fallback {display: none;}</style><div id=\"sk-container-id-1\" class=\"sk-top-container\"><div class=\"sk-text-repr-fallback\"><pre>XGBClassifier(base_score=None, booster=None, callbacks=None,\n",
       "              colsample_bylevel=None, colsample_bynode=None,\n",
       "              colsample_bytree=None, device=None, early_stopping_rounds=None,\n",
       "              enable_categorical=False, eval_metric=None, feature_types=None,\n",
       "              gamma=None, grow_policy=None, importance_type=None,\n",
       "              interaction_constraints=None, learning_rate=None, max_bin=None,\n",
       "              max_cat_threshold=None, max_cat_to_onehot=None,\n",
       "              max_delta_step=None, max_depth=None, max_leaves=None,\n",
       "              min_child_weight=None, missing=nan, monotone_constraints=None,\n",
       "              multi_strategy=None, n_estimators=None, n_jobs=None,\n",
       "              num_parallel_tree=None, random_state=None, ...)</pre><b>In a Jupyter environment, please rerun this cell to show the HTML representation or trust the notebook. <br />On GitHub, the HTML representation is unable to render, please try loading this page with nbviewer.org.</b></div><div class=\"sk-container\" hidden><div class=\"sk-item\"><div class=\"sk-estimator sk-toggleable\"><input class=\"sk-toggleable__control sk-hidden--visually\" id=\"sk-estimator-id-1\" type=\"checkbox\" checked><label for=\"sk-estimator-id-1\" class=\"sk-toggleable__label sk-toggleable__label-arrow\">XGBClassifier</label><div class=\"sk-toggleable__content\"><pre>XGBClassifier(base_score=None, booster=None, callbacks=None,\n",
       "              colsample_bylevel=None, colsample_bynode=None,\n",
       "              colsample_bytree=None, device=None, early_stopping_rounds=None,\n",
       "              enable_categorical=False, eval_metric=None, feature_types=None,\n",
       "              gamma=None, grow_policy=None, importance_type=None,\n",
       "              interaction_constraints=None, learning_rate=None, max_bin=None,\n",
       "              max_cat_threshold=None, max_cat_to_onehot=None,\n",
       "              max_delta_step=None, max_depth=None, max_leaves=None,\n",
       "              min_child_weight=None, missing=nan, monotone_constraints=None,\n",
       "              multi_strategy=None, n_estimators=None, n_jobs=None,\n",
       "              num_parallel_tree=None, random_state=None, ...)</pre></div></div></div></div></div>"
      ],
      "text/plain": [
       "XGBClassifier(base_score=None, booster=None, callbacks=None,\n",
       "              colsample_bylevel=None, colsample_bynode=None,\n",
       "              colsample_bytree=None, device=None, early_stopping_rounds=None,\n",
       "              enable_categorical=False, eval_metric=None, feature_types=None,\n",
       "              gamma=None, grow_policy=None, importance_type=None,\n",
       "              interaction_constraints=None, learning_rate=None, max_bin=None,\n",
       "              max_cat_threshold=None, max_cat_to_onehot=None,\n",
       "              max_delta_step=None, max_depth=None, max_leaves=None,\n",
       "              min_child_weight=None, missing=nan, monotone_constraints=None,\n",
       "              multi_strategy=None, n_estimators=None, n_jobs=None,\n",
       "              num_parallel_tree=None, random_state=None, ...)"
      ]
     },
     "execution_count": 7,
     "metadata": {},
     "output_type": "execute_result"
    }
   ],
   "source": [
    "# Ajuste el modelo a los datos de entrenamiento \n",
    "\n",
    "model = XGBClassifier()\n",
    "model.fit(X_train, y_train)"
   ]
  },
  {
   "cell_type": "markdown",
   "metadata": {},
   "source": [
    "Puedes ver los parámetros utilizados en un modelo entrenado imprimiendo el modelo, por ejemplo:"
   ]
  },
  {
   "cell_type": "code",
   "execution_count": 8,
   "metadata": {},
   "outputs": [
    {
     "data": {
      "text/plain": [
       "<Figure size 2000x1000 with 0 Axes>"
      ]
     },
     "metadata": {},
     "output_type": "display_data"
    },
    {
     "data": {
      "image/png": "[encoded data removed]",
      "text/plain": [
       "<Figure size 640x480 with 1 Axes>"
      ]
     },
     "metadata": {},
     "output_type": "display_data"
    },
    {
     "data": {
      "text/plain": [
       "<Figure size 2000x1000 with 0 Axes>"
      ]
     },
     "metadata": {},
     "output_type": "display_data"
    }
   ],
   "source": [
    "plt.figure(figsize=(20, 10))\n",
    "plot_tree(model, num_trees=2, rankdir='TB')  # `rankdir='LR'` para un árbol de izquierda a derecha\n",
    "plt.figure(figsize=(20, 10))  \n",
    "plt.show()"
   ]
  },
  {
   "cell_type": "code",
   "execution_count": 9,
   "metadata": {},
   "outputs": [],
   "source": [
    "# Graficar Boosting usando graphviz\n",
    "from graphviz import Digraph\n",
    "import xgboost as xgb\n",
    "\n",
    "# Exportacion el modelo a un formato dot\n",
    "dot_data = xgb.to_graphviz(model, num_trees=0, rankdir='TB')\n",
    "\n",
    "# Guardamos en un archivo .dot\n",
    "with open('tree.dot', 'w') as f:\n",
    "    f.write(dot_data.source)\n",
    "\n",
    "# Convertir .dot a .png usando Graphviz\n",
    "with open('tree.png', 'wb') as f:\n",
    "    f.write(dot_data.pipe(format='png'))\n"
   ]
  },
  {
   "cell_type": "code",
   "execution_count": 10,
   "metadata": {},
   "outputs": [
    {
     "name": "stdout",
     "output_type": "stream",
     "text": [
      "{'objective': 'binary:logistic', 'base_score': None, 'booster': None, 'callbacks': None, 'colsample_bylevel': None, 'colsample_bynode': None, 'colsample_bytree': None, 'device': None, 'early_stopping_rounds': None, 'enable_categorical': False, 'eval_metric': None, 'feature_types': None, 'gamma': None, 'grow_policy': None, 'importance_type': None, 'interaction_constraints': None, 'learning_rate': None, 'max_bin': None, 'max_cat_threshold': None, 'max_cat_to_onehot': None, 'max_delta_step': None, 'max_depth': None, 'max_leaves': None, 'min_child_weight': None, 'missing': nan, 'monotone_constraints': None, 'multi_strategy': None, 'n_estimators': None, 'n_jobs': None, 'num_parallel_tree': None, 'random_state': None, 'reg_alpha': None, 'reg_lambda': None, 'sampling_method': None, 'scale_pos_weight': None, 'subsample': None, 'tree_method': None, 'validate_parameters': None, 'verbosity': None}\n"
     ]
    }
   ],
   "source": [
    "print(model.get_params())"
   ]
  },
  {
   "cell_type": "markdown",
   "metadata": {},
   "source": [
    "Ahora estamos listos para usar el modelo entrenado para hacer predicciones."
   ]
  },
  {
   "cell_type": "markdown",
   "metadata": {},
   "source": [
    "#### 4.5 Realizar Predicciones con el Modelo XGBoost\n",
    "\n",
    "Podemos hacer predicciones utilizando el modelo ajustado en el conjunto de datos de prueba. Para hacer predicciones, usamos la función `model.predict()` de scikit-learn."
   ]
  },
  {
   "cell_type": "code",
   "execution_count": 11,
   "metadata": {},
   "outputs": [],
   "source": [
    "# Realizamos predicciones para los datos de prueba\n",
    "\n",
    "predictions = model.predict(X_test)"
   ]
  },
  {
   "cell_type": "markdown",
   "metadata": {},
   "source": [
    "Ahora que hemos utilizado el modelo ajustado para hacer predicciones con nuevos datos, podemos evaluar el rendimiento de las predicciones comparándolas con los valores esperados. Para ello, utilizaremos la función de puntuación de precisión (`accuracy_score()`) incorporada en scikit-learn."
   ]
  },
  {
   "cell_type": "code",
   "execution_count": 12,
   "metadata": {},
   "outputs": [
    {
     "name": "stdout",
     "output_type": "stream",
     "text": [
      "Accuracy: 72.83%\n"
     ]
    }
   ],
   "source": [
    "# Evaluacion de Predicciones\n",
    "\n",
    "accuracy = accuracy_score(y_test, predictions)\n",
    "print(f\"Accuracy: {accuracy*100:.2f}%\")"
   ]
  },
  {
   "cell_type": "markdown",
   "metadata": {},
   "source": [
    "4.6 Unirlo Todo\n",
    "\n",
    "Podemos unir todas estas piezas, a continuación se muestra el código completo."
   ]
  },
  {
   "cell_type": "code",
   "execution_count": 13,
   "metadata": {},
   "outputs": [
    {
     "name": "stdout",
     "output_type": "stream",
     "text": [
      "Accuracy: 72.83%\n"
     ]
    }
   ],
   "source": [
    "\n",
    "# Librerias para manejo de DF\n",
    "import pandas as pd\n",
    "from numpy import loadtxt\n",
    "\n",
    "# Libreria del modelo XGBoost \n",
    "import xgboost as xgb\n",
    "from xgboost import XGBClassifier\n",
    "\n",
    "# Librerias para metricas de evaluacion \n",
    "from sklearn.model_selection import train_test_split\n",
    "from sklearn.metrics import accuracy_score\n",
    "\n",
    "# Librerias para Graficos \n",
    "from xgboost import plot_tree\n",
    "import matplotlib.pyplot as plt\n",
    "\n",
    "# Graficar Boosting usando graphviz\n",
    "from graphviz import Digraph\n",
    "\n",
    "\n",
    "\n",
    "# Lectura del DF\n",
    "dataset = pd.read_csv('DataFrames/diabetes.csv', delimiter=\",\")\n",
    "\n",
    "# Convertimos los datos a un array de numpy\n",
    "dataset = dataset.values\n",
    "\n",
    "# Dividir los datos en X e y\n",
    "X = dataset[:,0:8]\n",
    "Y = dataset[:,8]\n",
    "\n",
    "# Separacion de datos en entrenamiento y prueba \n",
    "seed = 7\n",
    "test_size = 0.33\n",
    "X_train, X_test, y_train, y_test = train_test_split(X, Y, test_size = test_size, \n",
    "                                                    random_state = seed)\n",
    "\n",
    "# Ajuste el modelo a los datos de entrenamiento \n",
    "model = XGBClassifier()\n",
    "model.fit(X_train, y_train)\n",
    "\n",
    "\n",
    "## Grafica del Boosting \n",
    "# Exportacion el modelo a un formato dot\n",
    "dot_data = xgb.to_graphviz(model, num_trees=0, rankdir='TB')\n",
    "\n",
    "# Guardamos en un archivo .dot\n",
    "with open('Graficos/tree.dot', 'w') as f:\n",
    "    f.write(dot_data.source)\n",
    "\n",
    "# Convertir .dot a .png usando Graphviz\n",
    "with open('Graficos/tree.png', 'wb') as f:\n",
    "    f.write(dot_data.pipe(format='png'))\n",
    "\n",
    "\n",
    "# Realizamos predicciones para los datos de prueba\n",
    "predictions = model.predict(X_test)\n",
    "\n",
    "# Evaluacion de Predicciones\n",
    "accuracy = accuracy_score(y_test, predictions)\n",
    "print(f\"Accuracy: {accuracy*100:.2f}%\")\n"
   ]
  },
  {
   "cell_type": "markdown",
   "metadata": {},
   "source": [
    "Ejecutar este ejemplo produce la siguiente salida.\n",
    "   ```bash\n",
    "   Accuracy: 72.83%\n",
    "   ```"
   ]
  },
  {
   "cell_type": "markdown",
   "metadata": {},
   "source": [
    "Este es un buen puntaje de precisión para este problema, lo cual esperábamos, dado las capacidades del modelo y la modesta complejidad del problema."
   ]
  },
  {
   "cell_type": "markdown",
   "metadata": {},
   "source": [
    "### 4.7 Resumen\n",
    "\n",
    "En este tutorial descubriste cómo desarrollar tu primer modelo XGBoost en Python. Específicamente, aprendiste:\n",
    "\n",
    "- Cómo instalar XGBoost en tu sistema para usarlo con Python.\n",
    "- Cómo preparar los datos y entrenar tu primer modelo XGBoost en un conjunto de datos de machine learning estándar.\n",
    "- Cómo hacer predicciones y evaluar el rendimiento de un modelo XGBoost entrenado usando scikit-learn.\n",
    "\n",
    "En el siguiente tutorial, desarrollarás estas habilidades y aprenderás cómo preparar mejor tus datos para el modelado con XGBoost."
   ]
  },
  {
   "cell_type": "markdown",
   "metadata": {},
   "source": [
    "# Capítulo 5\n",
    "\n",
    "### Preparación de Datos para el Gradient Boosting\n",
    "\n",
    "XGBoost es una implementación popular de Gradient Boosting debido a su velocidad y rendimiento. Internamente, los modelos XGBoost representan todos los problemas como un problema de modelado predictivo de regresión que solo acepta valores numéricos como entrada. Si tus datos están en una forma diferente, deben prepararse en el formato esperado. En este tutorial descubrirás cómo preparar tus datos para su uso con gradient boosting utilizando la biblioteca XGBoost en Python. Después de leer este tutorial, sabrás:\n",
    "\n",
    "- Cómo codificar variables de salida en formato de cadena para clasificación.\n",
    "- Cómo preparar variables de entrada categóricas utilizando codificación one-hot.\n",
    "- Cómo manejar automáticamente datos faltantes con XGBoost.\n",
    "\n",
    "¡Vamos a comenzar!"
   ]
  },
  {
   "cell_type": "markdown",
   "metadata": {},
   "source": [
    "#### 5.1 Codificación de Etiquetas para Valores de Clase en Cadena\n",
    "\n",
    "El problema de clasificación de flores de iris es un ejemplo de un problema que tiene un valor de clase en cadena. Se trata de un problema de predicción en el que, dadas las medidas de las flores de iris en centímetros, la tarea es predecir a qué especie pertenece una flor dada. A continuación se muestra una muestra del conjunto de datos en bruto. Puedes aprender más sobre este conjunto de datos y descargar los datos en bruto en formato CSV desde el Repositorio de Aprendizaje Automático de UCI.\n"
   ]
  },
  {
   "cell_type": "code",
   "execution_count": 14,
   "metadata": {},
   "outputs": [],
   "source": [
    "# !pip install ucimlrepo"
   ]
  },
  {
   "cell_type": "code",
   "execution_count": 15,
   "metadata": {},
   "outputs": [],
   "source": [
    "from ucimlrepo import fetch_ucirepo \n",
    "  \n",
    "# fetch dataset \n",
    "iris = fetch_ucirepo(id=53) \n",
    "  \n",
    "# data (as pandas dataframes) \n",
    "X = iris.data.features \n",
    "y = iris.data.targets \n",
    "  \n",
    "# # metadata \n",
    "# print(iris.metadata) \n",
    "  \n",
    "# # variable information \n",
    "# print(iris.variables) \n"
   ]
  },
  {
   "cell_type": "markdown",
   "metadata": {},
   "source": [
    "XGBoost no puede modelar este problema tal como está, ya que requiere que las variables de salida sean numéricas. Podemos convertir fácilmente los valores de cadena en valores enteros utilizando el `LabelEncoder`. Los tres valores de clase (`Iris-setosa`, `Iris-versicolor`, `Iris-virginica`) se mapean a los valores enteros $(0, 1, 2)$."
   ]
  },
  {
   "cell_type": "markdown",
   "metadata": {},
   "source": [
    "```bash \n",
    "    # Codificar los valores de clase de una cadena como enteros\n",
    "    label_encoder = LabelEncoder()\n",
    "    label_encoder = label_encoder.fit(Y)\n",
    "    label_encoded_y = label_encoder.transform(Y)\n",
    "\n",
    "```"
   ]
  },
  {
   "cell_type": "markdown",
   "metadata": {},
   "source": [
    "Guardamos el codificador de etiquetas como un objeto separado para que podamos transformar tanto los conjuntos de datos de entrenamiento como los de prueba y validación utilizando el mismo esquema de codificación. A continuación se muestra un ejemplo completo que muestra cómo cargar el conjunto de datos iris. Observe que Pandas se utiliza para cargar los datos para manejar los valores de clase de cadena."
   ]
  },
  {
   "cell_type": "code",
   "execution_count": 16,
   "metadata": {},
   "outputs": [
    {
     "name": "stdout",
     "output_type": "stream",
     "text": [
      "Accuracy: 90.00%\n"
     ]
    }
   ],
   "source": [
    "# Clasificacion Multiclase \n",
    "from pandas import read_csv\n",
    "from xgboost import XGBClassifier\n",
    "from sklearn.model_selection import train_test_split\n",
    "from sklearn.metrics import accuracy_score\n",
    "from sklearn.preprocessing import LabelEncoder\n",
    "from ucimlrepo import fetch_ucirepo \n",
    "\n",
    "# Carga de los datos\n",
    "# data = read_csv('iris.csv', header=None) ----\n",
    "# dataset = data.values\n",
    "data = fetch_ucirepo(id=53) \n",
    "\n",
    "# Separacion de los datos en X e y \n",
    "X = data.data.features\n",
    "Y = data.data.targets\n",
    "\n",
    "# Codificamos los valores de clase de una cadena como enteros\n",
    "label_encoder = LabelEncoder()\n",
    "label_encoder = label_encoder.fit(Y)\n",
    "label_encoded_y = label_encoder.transform(Y)\n",
    "\n",
    "# Separacion de los datos en entrenamiento y prueba\n",
    "seed = 7\n",
    "test_size = 0.33\n",
    "X_train, X_test, y_train, y_test = train_test_split(X, label_encoded_y,\n",
    "test_size=test_size, random_state=seed)\n",
    "\n",
    "# Ajuste del modelo a los datos de entrenamiento \n",
    "model = XGBClassifier()\n",
    "model.fit(X_train, y_train)\n",
    "#print(model)\n",
    "\n",
    "## Grafica del Boosting \n",
    "# Exportacion el modelo a un formato dot\n",
    "dot_data = xgb.to_graphviz(model, num_trees=0, rankdir='TB')\n",
    "\n",
    "# Guardamos en un archivo .dot\n",
    "with open('Graficos/treeIris.dot', 'w') as f:\n",
    "    f.write(dot_data.source)\n",
    "\n",
    "# Convertir .dot a .png usando Graphviz\n",
    "with open('Graficos/treeIris.png', 'wb') as f:\n",
    "    f.write(dot_data.pipe(format='png'))\n",
    "\n",
    "\n",
    "# Realizamos predicciones con los datos de prueba \n",
    "predictions = model.predict(X_test)\n",
    "\n",
    "# Evaluacion de las predicciones \n",
    "accuracy = accuracy_score(y_test, predictions)\n",
    "print(\"Accuracy: %.2f%%\" % (accuracy * 100.0))"
   ]
  },
  {
   "cell_type": "markdown",
   "metadata": {},
   "source": [
    "Observa cómo el modelo de XGBoost está configurado para modelar automáticamente el problema de clasificación multiclase utilizando el objetivo `multi:softprob`, una variación de la función de pérdida softmax para modelar las probabilidades de las clases. Esto sugiere que, internamente, la clase de salida se convierte automáticamente en un tipo de codificación one hot."
   ]
  },
  {
   "cell_type": "markdown",
   "metadata": {},
   "source": [
    "### 5.2 Codificación One Hot de Datos Categóricos\n",
    "\n",
    "Algunos conjuntos de datos contienen solo datos categóricos, por ejemplo, el conjunto de datos de cáncer de mama. Este conjunto de datos describe los detalles técnicos de las biopsias de cáncer de mama, y la tarea de predicción consiste en determinar si el paciente tendrá una recurrencia del cáncer o no. A continuación se muestra una muestra del conjunto de datos en bruto. Puedes aprender más sobre este conjunto de datos en el [UCI Machine Learning Repository](https://archive.ics.uci.edu/ml/datasets/Breast+Cancer) y descargarlo en formato CSV desde [mldata.org](https://mldata.org/repository/data/viewslug/breast-cancer)."
   ]
  },
  {
   "cell_type": "code",
   "execution_count": 17,
   "metadata": {},
   "outputs": [
    {
     "name": "stdout",
     "output_type": "stream",
     "text": [
      "{'uci_id': 14, 'name': 'Breast Cancer', 'repository_url': 'https://archive.ics.uci.edu/dataset/14/breast+cancer', 'data_url': 'https://archive.ics.uci.edu/static/public/14/data.csv', 'abstract': 'This breast cancer domain was obtained from the University Medical Centre, Institute of Oncology, Ljubljana, Yugoslavia. This is one of three domains provided by the Oncology Institute that has repeatedly appeared in the machine learning literature. (See also lymphography and primary-tumor.)', 'area': 'Health and Medicine', 'tasks': ['Classification'], 'characteristics': ['Multivariate'], 'num_instances': 286, 'num_features': 9, 'feature_types': ['Categorical'], 'demographics': ['Age'], 'target_col': ['Class'], 'index_col': None, 'has_missing_values': 'yes', 'missing_values_symbol': 'NaN', 'year_of_dataset_creation': 1988, 'last_updated': 'Thu Mar 07 2024', 'dataset_doi': '10.24432/C51P4M', 'creators': ['Matjaz Zwitter', 'Milan Soklic'], 'intro_paper': None, 'additional_info': {'summary': 'This data set includes 201 instances of one class and 85 instances of another class.  The instances are described by 9 attributes, some of which are linear and some are nominal.\\n', 'purpose': None, 'funded_by': None, 'instances_represent': None, 'recommended_data_splits': None, 'sensitive_data': None, 'preprocessing_description': None, 'variable_info': '   1. Class: no-recurrence-events, recurrence-events\\r\\n   2. age: 10-19, 20-29, 30-39, 40-49, 50-59, 60-69, 70-79, 80-89, 90-99.\\r\\n   3. menopause: lt40, ge40, premeno.\\r\\n   4. tumor-size: 0-4, 5-9, 10-14, 15-19, 20-24, 25-29, 30-34, 35-39, 40-44, 45-49, 50-54, 55-59.\\r\\n   5. inv-nodes: 0-2, 3-5, 6-8, 9-11, 12-14, 15-17, 18-20, 21-23, 24-26, 27-29, 30-32, 33-35, 36-39.\\r\\n   6. node-caps: yes, no.\\r\\n   7. deg-malig: 1, 2, 3.\\r\\n   8. breast: left, right.\\r\\n   9. breast-quad: left-up, left-low, right-up,\\tright-low, central.\\r\\n  10. irradiat:\\tyes, no.', 'citation': 'Obtained from the University Medical Centre, Institute of Oncology, Ljubljana, Yugoslavia.  Thanks go to M. Zwitter and M. Soklic for providing the data.  Please include this citation if you plan to use this database:\\nMatjaz Zwitter & Milan Soklic (physicians)\\nInstitute of Oncology \\nUniversity Medical Center\\nLjubljana, Yugoslavia'}}\n",
      "          name     role         type demographic  \\\n",
      "0        Class   Target       Binary        None   \n",
      "1          age  Feature  Categorical         Age   \n",
      "2    menopause  Feature  Categorical        None   \n",
      "3   tumor-size  Feature  Categorical        None   \n",
      "4    inv-nodes  Feature  Categorical        None   \n",
      "5    node-caps  Feature       Binary        None   \n",
      "6    deg-malig  Feature      Integer        None   \n",
      "7       breast  Feature       Binary        None   \n",
      "8  breast-quad  Feature  Categorical        None   \n",
      "9     irradiat  Feature       Binary        None   \n",
      "\n",
      "                                         description  units missing_values  \n",
      "0            no-recurrence-events, recurrence-events   None             no  \n",
      "1  10-19, 20-29, 30-39, 40-49, 50-59, 60-69, 70-7...  years             no  \n",
      "2                                lt40, ge40, premeno   None             no  \n",
      "3  0-4, 5-9, 10-14, 15-19, 20-24, 25-29, 30-34, 3...   None             no  \n",
      "4   0-2, 3-5, 6-8, 9-11, 12-14, 15-17, 18-20, 21-...   None             no  \n",
      "5                                            yes, no   None            yes  \n",
      "6                                            1, 2, 3   None             no  \n",
      "7                                        left, right   None             no  \n",
      "8   left-up, left-low, right-up,\\tright-low, central   None            yes  \n",
      "9                                            yes, no   None             no  \n"
     ]
    },
    {
     "data": {
      "text/plain": [
       "{'data': {'ids': None,\n",
       "  'features':        age menopause tumor-size inv-nodes node-caps  deg-malig breast  \\\n",
       "  0    30-39   premeno      30-34       0-2        no          3   left   \n",
       "  1    40-49   premeno      20-24       0-2        no          2  right   \n",
       "  2    40-49   premeno      20-24       0-2        no          2   left   \n",
       "  3    60-69      ge40      15-19       0-2        no          2  right   \n",
       "  4    40-49   premeno        0-4       0-2        no          2  right   \n",
       "  ..     ...       ...        ...       ...       ...        ...    ...   \n",
       "  281  30-39   premeno      30-34       0-2        no          2   left   \n",
       "  282  30-39   premeno      20-24       0-2        no          3   left   \n",
       "  283  60-69      ge40      20-24       0-2        no          1  right   \n",
       "  284  40-49      ge40      30-34     5-Mar        no          3   left   \n",
       "  285  50-59      ge40      30-34     5-Mar        no          3   left   \n",
       "  \n",
       "      breast-quad irradiat  \n",
       "  0      left_low       no  \n",
       "  1      right_up       no  \n",
       "  2      left_low       no  \n",
       "  3       left_up       no  \n",
       "  4     right_low       no  \n",
       "  ..          ...      ...  \n",
       "  281     left_up       no  \n",
       "  282     left_up      yes  \n",
       "  283     left_up       no  \n",
       "  284    left_low       no  \n",
       "  285    left_low       no  \n",
       "  \n",
       "  [286 rows x 9 columns],\n",
       "  'targets':                     Class\n",
       "  0    no-recurrence-events\n",
       "  1    no-recurrence-events\n",
       "  2    no-recurrence-events\n",
       "  3    no-recurrence-events\n",
       "  4    no-recurrence-events\n",
       "  ..                    ...\n",
       "  281     recurrence-events\n",
       "  282     recurrence-events\n",
       "  283     recurrence-events\n",
       "  284     recurrence-events\n",
       "  285     recurrence-events\n",
       "  \n",
       "  [286 rows x 1 columns],\n",
       "  'original':        age menopause tumor-size inv-nodes node-caps  deg-malig breast  \\\n",
       "  0    30-39   premeno      30-34       0-2        no          3   left   \n",
       "  1    40-49   premeno      20-24       0-2        no          2  right   \n",
       "  2    40-49   premeno      20-24       0-2        no          2   left   \n",
       "  3    60-69      ge40      15-19       0-2        no          2  right   \n",
       "  4    40-49   premeno        0-4       0-2        no          2  right   \n",
       "  ..     ...       ...        ...       ...       ...        ...    ...   \n",
       "  281  30-39   premeno      30-34       0-2        no          2   left   \n",
       "  282  30-39   premeno      20-24       0-2        no          3   left   \n",
       "  283  60-69      ge40      20-24       0-2        no          1  right   \n",
       "  284  40-49      ge40      30-34     5-Mar        no          3   left   \n",
       "  285  50-59      ge40      30-34     5-Mar        no          3   left   \n",
       "  \n",
       "      breast-quad irradiat                 Class  \n",
       "  0      left_low       no  no-recurrence-events  \n",
       "  1      right_up       no  no-recurrence-events  \n",
       "  2      left_low       no  no-recurrence-events  \n",
       "  3       left_up       no  no-recurrence-events  \n",
       "  4     right_low       no  no-recurrence-events  \n",
       "  ..          ...      ...                   ...  \n",
       "  281     left_up       no     recurrence-events  \n",
       "  282     left_up      yes     recurrence-events  \n",
       "  283     left_up       no     recurrence-events  \n",
       "  284    left_low       no     recurrence-events  \n",
       "  285    left_low       no     recurrence-events  \n",
       "  \n",
       "  [286 rows x 10 columns],\n",
       "  'headers': Index(['age', 'menopause', 'tumor-size', 'inv-nodes', 'node-caps', 'deg-malig',\n",
       "         'breast', 'breast-quad', 'irradiat', 'Class'],\n",
       "        dtype='object')},\n",
       " 'metadata': {'uci_id': 14,\n",
       "  'name': 'Breast Cancer',\n",
       "  'repository_url': 'https://archive.ics.uci.edu/dataset/14/breast+cancer',\n",
       "  'data_url': 'https://archive.ics.uci.edu/static/public/14/data.csv',\n",
       "  'abstract': 'This breast cancer domain was obtained from the University Medical Centre, Institute of Oncology, Ljubljana, Yugoslavia. This is one of three domains provided by the Oncology Institute that has repeatedly appeared in the machine learning literature. (See also lymphography and primary-tumor.)',\n",
       "  'area': 'Health and Medicine',\n",
       "  'tasks': ['Classification'],\n",
       "  'characteristics': ['Multivariate'],\n",
       "  'num_instances': 286,\n",
       "  'num_features': 9,\n",
       "  'feature_types': ['Categorical'],\n",
       "  'demographics': ['Age'],\n",
       "  'target_col': ['Class'],\n",
       "  'index_col': None,\n",
       "  'has_missing_values': 'yes',\n",
       "  'missing_values_symbol': 'NaN',\n",
       "  'year_of_dataset_creation': 1988,\n",
       "  'last_updated': 'Thu Mar 07 2024',\n",
       "  'dataset_doi': '10.24432/C51P4M',\n",
       "  'creators': ['Matjaz Zwitter', 'Milan Soklic'],\n",
       "  'intro_paper': None,\n",
       "  'additional_info': {'summary': 'This data set includes 201 instances of one class and 85 instances of another class.  The instances are described by 9 attributes, some of which are linear and some are nominal.\\n',\n",
       "   'purpose': None,\n",
       "   'funded_by': None,\n",
       "   'instances_represent': None,\n",
       "   'recommended_data_splits': None,\n",
       "   'sensitive_data': None,\n",
       "   'preprocessing_description': None,\n",
       "   'variable_info': '   1. Class: no-recurrence-events, recurrence-events\\r\\n   2. age: 10-19, 20-29, 30-39, 40-49, 50-59, 60-69, 70-79, 80-89, 90-99.\\r\\n   3. menopause: lt40, ge40, premeno.\\r\\n   4. tumor-size: 0-4, 5-9, 10-14, 15-19, 20-24, 25-29, 30-34, 35-39, 40-44, 45-49, 50-54, 55-59.\\r\\n   5. inv-nodes: 0-2, 3-5, 6-8, 9-11, 12-14, 15-17, 18-20, 21-23, 24-26, 27-29, 30-32, 33-35, 36-39.\\r\\n   6. node-caps: yes, no.\\r\\n   7. deg-malig: 1, 2, 3.\\r\\n   8. breast: left, right.\\r\\n   9. breast-quad: left-up, left-low, right-up,\\tright-low, central.\\r\\n  10. irradiat:\\tyes, no.',\n",
       "   'citation': 'Obtained from the University Medical Centre, Institute of Oncology, Ljubljana, Yugoslavia.  Thanks go to M. Zwitter and M. Soklic for providing the data.  Please include this citation if you plan to use this database:\\nMatjaz Zwitter & Milan Soklic (physicians)\\nInstitute of Oncology \\nUniversity Medical Center\\nLjubljana, Yugoslavia'}},\n",
       " 'variables':           name     role         type demographic  \\\n",
       " 0        Class   Target       Binary        None   \n",
       " 1          age  Feature  Categorical         Age   \n",
       " 2    menopause  Feature  Categorical        None   \n",
       " 3   tumor-size  Feature  Categorical        None   \n",
       " 4    inv-nodes  Feature  Categorical        None   \n",
       " 5    node-caps  Feature       Binary        None   \n",
       " 6    deg-malig  Feature      Integer        None   \n",
       " 7       breast  Feature       Binary        None   \n",
       " 8  breast-quad  Feature  Categorical        None   \n",
       " 9     irradiat  Feature       Binary        None   \n",
       " \n",
       "                                          description  units missing_values  \n",
       " 0            no-recurrence-events, recurrence-events   None             no  \n",
       " 1  10-19, 20-29, 30-39, 40-49, 50-59, 60-69, 70-7...  years             no  \n",
       " 2                                lt40, ge40, premeno   None             no  \n",
       " 3  0-4, 5-9, 10-14, 15-19, 20-24, 25-29, 30-34, 3...   None             no  \n",
       " 4   0-2, 3-5, 6-8, 9-11, 12-14, 15-17, 18-20, 21-...   None             no  \n",
       " 5                                            yes, no   None            yes  \n",
       " 6                                            1, 2, 3   None             no  \n",
       " 7                                        left, right   None             no  \n",
       " 8   left-up, left-low, right-up,\\tright-low, central   None            yes  \n",
       " 9                                            yes, no   None             no  }"
      ]
     },
     "execution_count": 17,
     "metadata": {},
     "output_type": "execute_result"
    }
   ],
   "source": [
    "from ucimlrepo import fetch_ucirepo \n",
    "  \n",
    "# fetch dataset \n",
    "breast_cancer = fetch_ucirepo(id=14) \n",
    "  \n",
    "# data (as pandas dataframes) \n",
    "X = breast_cancer.data.features \n",
    "y = breast_cancer.data.targets \n",
    "  \n",
    "# metadata \n",
    "print(breast_cancer.metadata) \n",
    "  \n",
    "# variable information \n",
    "print(breast_cancer.variables) \n",
    "breast_cancer\n"
   ]
  },
  {
   "cell_type": "markdown",
   "metadata": {},
   "source": [
    "Podemos ver que las 9 variables de entrada son categóricas y están descritas en formato de cadena. El problema es una tarea de predicción de clasificación binaria, y los valores de las clases de salida también están descritos en formato de cadena. Podemos reutilizar el mismo enfoque de la sección anterior y convertir los valores de las clases en cadena a valores enteros para modelar la predicción utilizando `LabelEncoder`. Por ejemplo:\n",
    "\n",
    "```bash\n",
    "    # Codificamos los valores de clase de una cadena como enteros\n",
    "    label_encoder = LabelEncoder()\n",
    "    label_encoder = label_encoder.fit(Y)\n",
    "    label_encoded_y = label_encoder.transform(Y)\n",
    "```\n"
   ]
  },
  {
   "cell_type": "markdown",
   "metadata": {},
   "source": [
    "Podemos usar este mismo enfoque en cada característica de entrada en X, pero esto es solo un punto de partida.\n",
    "```bash\n",
    "    # Codificacion de los valores de clase de una cadena como enteros\n",
    "\n",
    "    features = []\n",
    "    for i in range(0, X.shape[1]):\n",
    "        label_encoder = LabelEncoder()\n",
    "        feature = label_encoder.fit_transform(X[:, i])\n",
    "        features.append(feature)\n",
    "    encoded_x = numpy.array(features)\n",
    "    encoded_x = encoded_x.reshape(X.shape[0], X.shape[1])\n",
    "   ```"
   ]
  },
  {
   "cell_type": "markdown",
   "metadata": {},
   "source": [
    "XGBoost puede asumir que los valores enteros codificados para cada variable de entrada tienen una relación ordinal. Por ejemplo, que \"left-up\" codificado como 0 y \"left-low\" codificado como 1 para la variable *breast-quad* tienen una relación significativa como enteros. En este caso, esta suposición es incorrecta. En su lugar, debemos mapear estos valores enteros en nuevas variables binarias, una nueva variable para cada valor categórico. Por ejemplo, la variable *breast-quad* tiene los valores:\n",
    "\n",
    "```bash\n",
    "    left-up\n",
    "    left-low\n",
    "    right-up\n",
    "    right-low\n",
    "    central\n",
    "   ```\n"
   ]
  },
  {
   "attachments": {
    "image.png": {
     "image/png": "[encoded data removed]"
    }
   },
   "cell_type": "markdown",
   "metadata": {},
   "source": [
    "Podemos modelar esto como 5 variables binarias de la siguiente manera:\n",
    "\n",
    "![image.png](attachment:image.png)"
   ]
  },
  {
   "cell_type": "markdown",
   "metadata": {},
   "source": [
    "Esto se llama codificación one hot. Podemos aplicar la codificación one hot a todas las variables categóricas de entrada utilizando la clase `OneHotEncoder` en scikit-learn. Podemos codificar one hot cada característica después de haberla codificado con etiquetas. Primero, debemos transformar el array de características en un array de NumPy de 2 dimensiones, donde cada valor entero es un vector de características con una longitud de 1.\n",
    "\n",
    "```bash\n",
    "   feature = feature.reshape(X.shape[0], 1)\n",
    "   ```"
   ]
  },
  {
   "cell_type": "markdown",
   "metadata": {},
   "source": [
    "Luego podemos crear el `OneHotEncoder` y codificar el array de características.\n",
    "\n",
    "```bash\n",
    "    onehot_encoder = OneHotEncoder(sparse=False)\n",
    "    feature = onehot_encoder.fit_transform(feature)\n",
    "```"
   ]
  },
  {
   "cell_type": "markdown",
   "metadata": {},
   "source": [
    "Finalmente, podemos construir el conjunto de datos de entrada concatenando las características codificadas en one hot, una por una. Terminamos con un vector de entrada compuesto por 43 variables de entrada binarias.\n",
    "\n",
    "```bash\n",
    "# encode string input values as integers\n",
    "columns = []\n",
    "for i in range(0, X.shape[1]):\n",
    "    label_encoder = LabelEncoder()\n",
    "    feature = label_encoder.fit_transform(X[:,i])\n",
    "    feature = feature.reshape(X.shape[0], 1)\n",
    "    onehot_encoder = OneHotEncoder(sparse=False)\n",
    "    feature = onehot_encoder.fit_transform(feature)\n",
    "    columns.append(feature)\n",
    "# colapsar columnas en un arreglo\n",
    "encoded_x = numpy.column_stack(columns)\n",
    "```\n"
   ]
  },
  {
   "cell_type": "markdown",
   "metadata": {},
   "source": [
    "Idealmente, podríamos experimentar con no aplicar *one hot encoding* a algunos de los atributos de entrada, ya que podríamos codificarlos con una relación ordinal explícita, por ejemplo, la primera columna *age* con valores como 40-49 y 50-59. Esto se deja como un ejercicio, si estás interesado en extender este ejemplo. A continuación se muestra el ejemplo completo con variables de entrada codificadas tanto con *label encoding* como con *one hot encoding*, y la variable de salida codificada con *label encoding*."
   ]
  },
  {
   "cell_type": "code",
   "execution_count": 18,
   "metadata": {},
   "outputs": [
    {
     "name": "stdout",
     "output_type": "stream",
     "text": [
      "X shape: :  (286, 43)\n",
      "Accuracy: 69.47%\n"
     ]
    }
   ],
   "source": [
    "# binary classification, breast cancer dataset, label and one hot encoded\n",
    "from numpy import column_stack\n",
    "from pandas import read_csv\n",
    "from xgboost import XGBClassifier\n",
    "from sklearn.model_selection import train_test_split\n",
    "from sklearn.metrics import accuracy_score\n",
    "from sklearn.preprocessing import LabelEncoder\n",
    "from sklearn.preprocessing import OneHotEncoder\n",
    "\n",
    "# Cargamos la base \n",
    "data = read_csv('DataFrames/datasetsUciBreastCancer.csv', header=None)\n",
    "dataset = data.values\n",
    "\n",
    "# Separamos los datos de X e y\n",
    "X = dataset[:,0:9]\n",
    "X = X.astype(str)\n",
    "Y = dataset[:,9]\n",
    "\n",
    "# Codificar los valores de entrada de cadena como enteros.\n",
    "columns = []\n",
    "for i in range(0, X.shape[1]):\n",
    "    label_encoder = LabelEncoder()\n",
    "    feature = label_encoder.fit_transform(X[:,i])\n",
    "    feature = feature.reshape(X.shape[0], 1)\n",
    "    onehot_encoder = OneHotEncoder(sparse=False)\n",
    "    feature = onehot_encoder.fit_transform(feature)\n",
    "    columns.append(feature)\n",
    "\n",
    "# Colapsar(combinar) columnas en un arreglo.\n",
    "encoded_x = column_stack(columns)\n",
    "print(\"X shape: : \", encoded_x.shape)\n",
    "\n",
    "# Codificar los valores de clase en cadena como enteros.\n",
    "label_encoder = LabelEncoder()\n",
    "label_encoder = label_encoder.fit(Y)\n",
    "label_encoded_y = label_encoder.transform(Y)\n",
    "\n",
    "# Dividir los datos en conjuntos de entrenamiento y prueba.\n",
    "seed = 7\n",
    "test_size = 0.33\n",
    "X_train, X_test, y_train, y_test = train_test_split(encoded_x, label_encoded_y,\n",
    "                                                    test_size=test_size, random_state=seed)\n",
    "\n",
    "# Ajuste del modelo a los datos de entrenamiento \n",
    "model = XGBClassifier()\n",
    "model.fit(X_train, y_train)\n",
    "# print(model)\n",
    "\n",
    "# Realizamos predicciones con ls datos de prueba  \n",
    "predictions = model.predict(X_test)\n",
    "\n",
    "# Evaluamos las predicciones\n",
    "accuracy = accuracy_score(y_test, predictions)\n",
    "print(\"Accuracy: %.2f%%\" % (accuracy * 100.0))"
   ]
  },
  {
   "cell_type": "markdown",
   "metadata": {},
   "source": [
    "Running this example we get the following output:\n",
    "\n",
    "```bash\n",
    "    X shape: :  (286, 43)\n",
    "    Accuracy: 69.47%\n",
    "```\n"
   ]
  },
  {
   "cell_type": "markdown",
   "metadata": {},
   "source": [
    "Nuevamente, podemos ver que el marco de XGBoost eligió automáticamente el objetivo `binary:logistic`, que es el objetivo correcto para este problema de clasificación binaria."
   ]
  },
  {
   "cell_type": "markdown",
   "metadata": {},
   "source": [
    "#### 5.3 Soporte para Datos Faltantes  \n",
    "XGBoost puede aprender automáticamente cómo manejar mejor los datos faltantes. De hecho, XGBoost fue diseñado para trabajar con datos dispersos, como los datos codificados en caliente de la sección anterior, y los datos faltantes se manejan de la misma manera que los valores dispersos o cero, minimizando la función de pérdida. Para más información sobre los detalles técnicos de cómo se manejan los valores faltantes en XGBoost, consulta la Sección 3.4 \"Sparsity-aware Split Finding\" en el artículo *XGBoost: A Scalable Tree Boosting System*.\n",
    "\n",
    "El conjunto de datos Horse Colic es un buen ejemplo para demostrar esta capacidad, ya que contiene un gran porcentaje de datos faltantes, aproximadamente el 30%. Puedes aprender más sobre el conjunto de datos Horse Colic y descargar el archivo de datos crudos desde el repositorio de aprendizaje automático de UCI. Los valores están separados por espacios en blanco y podemos cargarlo fácilmente usando la función `read_csv()` de Pandas.\n",
    "\n",
    "```bash\n",
    "dataframe = read_csv(\"horse-colic.csv\", delim_whitespace=True, header=None)\n",
    "\n",
    "\n",
    "```\n"
   ]
  },
  {
   "cell_type": "markdown",
   "metadata": {},
   "source": [
    "Una vez cargado, podemos ver que los datos faltantes están marcados con un carácter de interrogación (?). Podemos cambiar estos valores faltantes al valor disperso esperado por XGBoost, que es el valor cero (0).\n",
    "\n",
    "```bash\n",
    "# Asignar los valores faltantes a 0.\n",
    "X[X == '?'] = 0\n",
    "\n",
    "```\n"
   ]
  },
  {
   "cell_type": "markdown",
   "metadata": {},
   "source": [
    "Debido a que los datos faltantes estaban marcados como cadenas, las columnas con datos faltantes se cargaron como tipos de datos de cadena. Ahora podemos convertir todo el conjunto de datos de entrada a valores numéricos.\n",
    "\n",
    "```bash\n",
    "# Convertir datos a numericos \n",
    "X = X.astype('float32')\n",
    "\n",
    "```\n"
   ]
  },
  {
   "cell_type": "markdown",
   "metadata": {},
   "source": [
    "Finalmente, este es un problema de clasificación binaria aunque los valores de las clases están marcados con los enteros 1 y 2. Modelamos los problemas de clasificación binaria en XGBoost como valores logísticos 0 y 1. Podemos convertir fácilmente el conjunto de datos Y a enteros 0 y 1 usando el `LabelEncoder`, como lo hicimos en el ejemplo de las flores de iris.\n",
    "\n",
    "```bash\n",
    "# encode Y class values as integers\n",
    "label_encoder = LabelEncoder()\n",
    "label_encoder = label_encoder.fit(Y)\n",
    "label_encoded_y = label_encoder.transform(Y)\n",
    "```\n"
   ]
  },
  {
   "cell_type": "markdown",
   "metadata": {},
   "source": [
    "A continuación se proporciona el código completo para mayor claridad."
   ]
  },
  {
   "cell_type": "code",
   "execution_count": 19,
   "metadata": {},
   "outputs": [],
   "source": [
    "# # binary classification, missing data\n",
    "# from pandas import read_csv\n",
    "# from xgboost import XGBClassifier\n",
    "# from sklearn.model_selection import train_test_split\n",
    "# from sklearn.metrics import accuracy_score\n",
    "# from sklearn.preprocessing import LabelEncoder\n",
    "# # load data\n",
    "# # fetch dataset \n",
    "# horse_colic = fetch_ucirepo(id=47) \n",
    "\n",
    "# # data (as pandas dataframes) \n",
    "# X = horse_colic.data.features \n",
    "# y = horse_colic.data.targets \n",
    "\n",
    "# # dataframe = read_csv(\"horse-colic.csv\", delim_whitespace=True, header=None)\n",
    "# # dataset = dataframe.values\n",
    "# # # split data into X and y\n",
    "# # X = dataset[:,0:27]\n",
    "# # Y = dataset[:,27]\n",
    "# # set missing values to 0\n",
    "# X[X == '?'] = 0\n",
    "# # convert to numeric\n",
    "# X = X.astype('float32')\n",
    "# # encode Y class values as integers\n",
    "# label_encoder = LabelEncoder()\n",
    "# label_encoder = label_encoder.fit(Y)\n",
    "# label_encoded_y = label_encoder.transform(Y)\n",
    "# # split data into train and test sets\n",
    "# seed = 7\n",
    "# test_size = 0.33\n",
    "# X_train, X_test, y_train, y_test = train_test_split(X, label_encoded_y,\n",
    "#                                                     test_size=test_size, random_state=seed)\n",
    "# # fit model on training data\n",
    "# model = XGBClassifier()\n",
    "# model.fit(X_train, y_train)\n",
    "# print(model)\n",
    "# # make predictions for test data\n",
    "# predictions = model.predict(X_test)\n",
    "# # evaluate predictions\n",
    "# accuracy = accuracy_score(y_test, predictions)\n",
    "# print(\"Accuracy: %.2f%%\" % (accuracy * 100.0))\n"
   ]
  },
  {
   "cell_type": "code",
   "execution_count": 20,
   "metadata": {},
   "outputs": [
    {
     "name": "stdout",
     "output_type": "stream",
     "text": [
      "Accuracy: 82.79%\n"
     ]
    }
   ],
   "source": [
    "# binary classification, missing data\n",
    "from pandas import read_csv\n",
    "from xgboost import XGBClassifier\n",
    "from sklearn.model_selection import train_test_split\n",
    "from sklearn.metrics import accuracy_score\n",
    "from sklearn.preprocessing import LabelEncoder\n",
    "from ucimlrepo import fetch_ucirepo \n",
    "\n",
    "# Cargar el dataset desde UCIMLrepo\n",
    "horse_colic = fetch_ucirepo(id=47) \n",
    "\n",
    "# Obtener los datos como DataFrames de pandas\n",
    "X = horse_colic.data.features \n",
    "y = horse_colic.data.targets \n",
    "\n",
    "# Manejo de valores faltantes\n",
    "# Reemplazar valores faltantes '?' por 0\n",
    "X[X == '?'] = 0\n",
    "\n",
    "# Convertir los datos a tipo numérico\n",
    "X = X.astype('float32')\n",
    "\n",
    "# Codificar los valores de clase en y como enteros\n",
    "label_encoder = LabelEncoder()\n",
    "label_encoded_y = label_encoder.fit_transform(y)\n",
    "\n",
    "# Dividir los datos en conjuntos de entrenamiento y prueba\n",
    "seed = 7\n",
    "test_size = 0.33\n",
    "X_train, X_test, y_train, y_test = train_test_split(X, label_encoded_y, test_size=test_size, random_state=seed)\n",
    "\n",
    "# Ajustar el modelo con los datos de entrenamiento\n",
    "model = XGBClassifier()\n",
    "model.fit(X_train, y_train)\n",
    "\n",
    "# Hacer predicciones con los datos de prueba\n",
    "predictions = model.predict(X_test)\n",
    "\n",
    "# Evaluar las predicciones\n",
    "accuracy = accuracy_score(y_test, predictions)\n",
    "print(f\"Accuracy: {accuracy * 100:.2f}%\")\n"
   ]
  },
  {
   "cell_type": "markdown",
   "metadata": {},
   "source": [
    "Podemos desentrañar el efecto del manejo automático de valores faltantes de XGBoost, marcando los valores faltantes con un valor no cero, como 1.\n",
    "\n",
    "```bash\n",
    "X[X == '?'] = 1 \n",
    "```"
   ]
  },
  {
   "cell_type": "markdown",
   "metadata": {},
   "source": [
    "Volver a ejecutar el ejemplo demuestra una disminución en la precisión del modelo.\n",
    "\n",
    "```bash\n",
    "Accuracy: 82.79%\n",
    "```\n"
   ]
  },
  {
   "cell_type": "markdown",
   "metadata": {},
   "source": [
    "También podemos marcar los valores como NaN y permitir que el marco de trabajo de XGBoost trate los valores faltantes como un valor distinto para la característica.\n",
    "\n",
    "```bash \n",
    "import numpy\n",
    "...\n",
    "X[X == '?'] = numpy.nan\n",
    "\n",
    "```"
   ]
  },
  {
   "cell_type": "markdown",
   "metadata": {},
   "source": [
    "Volver a ejecutar el ejemplo demuestra una pequeña mejora en la precisión del modelo.\n",
    "\n",
    "```bash\n",
    "accuracy:\n",
    "```\n"
   ]
  },
  {
   "cell_type": "markdown",
   "metadata": {},
   "source": [
    "También podemos imputar los datos faltantes con un valor específico. Es común usar una media o una mediana para la columna. Podemos imputar fácilmente los datos faltantes utilizando la clase Imputer de scikit-learn.\n",
    "\n",
    "```bash\n",
    "# impute missing values as the mean\n",
    "imputer = Imputer()\n",
    "imputed_x = imputer.fit_transform(X)\n",
    "\n",
    "```\n"
   ]
  },
  {
   "cell_type": "markdown",
   "metadata": {},
   "source": [
    "A continuación se muestra el ejemplo completo con los datos faltantes imputados con el valor medio de cada columna."
   ]
  },
  {
   "cell_type": "code",
   "execution_count": 21,
   "metadata": {},
   "outputs": [
    {
     "name": "stdout",
     "output_type": "stream",
     "text": [
      "XGBClassifier(base_score=None, booster=None, callbacks=None,\n",
      "              colsample_bylevel=None, colsample_bynode=None,\n",
      "              colsample_bytree=None, device=None, early_stopping_rounds=None,\n",
      "              enable_categorical=False, eval_metric=None, feature_types=None,\n",
      "              gamma=None, grow_policy=None, importance_type=None,\n",
      "              interaction_constraints=None, learning_rate=None, max_bin=None,\n",
      "              max_cat_threshold=None, max_cat_to_onehot=None,\n",
      "              max_delta_step=None, max_depth=None, max_leaves=None,\n",
      "              min_child_weight=None, missing=nan, monotone_constraints=None,\n",
      "              multi_strategy=None, n_estimators=None, n_jobs=None,\n",
      "              num_parallel_tree=None, random_state=None, ...)\n",
      "Accuracy: 81.15%\n"
     ]
    }
   ],
   "source": [
    "# binary classification, missing data, impute with mean\n",
    "import numpy\n",
    "from pandas import read_csv\n",
    "from xgboost import XGBClassifier\n",
    "from sklearn.model_selection import train_test_split\n",
    "from sklearn.metrics import accuracy_score\n",
    "from sklearn.preprocessing import LabelEncoder\n",
    "from sklearn.impute import SimpleImputer# load data\n",
    "# Cargar el dataset desde UCIMLrepo\n",
    "dataset = fetch_ucirepo(id=47) \n",
    "\n",
    "# Obtener los datos como DataFrames de pandas\n",
    "X = dataset.data.features \n",
    "Y = dataset.data.targets \n",
    "# dataframe = read_csv(\"horse-colic.csv\", delim_whitespace=True, header=None)\n",
    "# dataset = dataframe.values\n",
    "# # split data into X and y\n",
    "# X = dataset[:,0:27]\n",
    "# Y = dataset[:,27]\n",
    "# set missing values to NaN\n",
    "X[X == '?'] = numpy.nan\n",
    "# convert to numeric\n",
    "X = X.astype('float32')\n",
    "# impute missing values as the mean\n",
    "imputer = SimpleImputer(strategy='mean')\n",
    "imputed_x = imputer.fit_transform(X)\n",
    "# encode Y class values as integers\n",
    "label_encoder = LabelEncoder()\n",
    "label_encoder = label_encoder.fit(Y)\n",
    "label_encoded_y = label_encoder.transform(Y)\n",
    "# split data into train and test sets\n",
    "seed = 7\n",
    "test_size = 0.33\n",
    "X_train, X_test, y_train, y_test = train_test_split(imputed_x, label_encoded_y,\n",
    "test_size=test_size, random_state=seed)\n",
    "# fit model on training data\n",
    "model = XGBClassifier()\n",
    "model.fit(X_train, y_train)\n",
    "print(model)\n",
    "# make predictions for test data\n",
    "predictions = model.predict(X_test)\n",
    "# evaluate predictions\n",
    "accuracy = accuracy_score(y_test, predictions)\n",
    "print(\"Accuracy: %.2f%%\" % (accuracy * 100.0))"
   ]
  },
  {
   "cell_type": "markdown",
   "metadata": {},
   "source": [
    "Al ejecutar este ejemplo, vemos resultados equivalentes a fijar el valor en uno (1). Esto sugiere que, al menos en este caso, es mejor marcar los valores faltantes con un valor distinto como NaN o cero (0) en lugar de un valor válido (1) o un valor imputado.\n",
    "\n",
    "```bash\n",
    "accuracy: 81.15%\n",
    "```\n"
   ]
  },
  {
   "cell_type": "markdown",
   "metadata": {},
   "source": [
    "Es una buena lección probar ambos enfoques (manejo automático e imputación) en tus datos cuando tienes valores faltantes."
   ]
  },
  {
   "cell_type": "markdown",
   "metadata": {},
   "source": [
    "#### 5.4 Resumen\n",
    "\n",
    "En este tutorial descubriste cómo preparar tus datos de aprendizaje automático para el gradient boosting con XGBoost en Python. Específicamente, aprendiste:\n",
    "\n",
    "- Cómo preparar valores de clase en formato de cadena para la clasificación binaria utilizando codificación de etiquetas.\n",
    "- Cómo preparar variables de entrada categóricas utilizando codificación one hot para modelarlas como variables binarias.\n",
    "- Cómo XGBoost maneja automáticamente los datos faltantes y cómo puedes marcar e imputar valores faltantes.\n",
    "\n",
    "En el próximo tutorial, construirás sobre estas capacidades y descubrirás cómo evaluar el rendimiento de tus modelos de XGBoost."
   ]
  },
  {
   "cell_type": "markdown",
   "metadata": {},
   "source": [
    "# Capítulo 6  \n",
    "### Cómo Evaluar Modelos de XGBoost\n",
    "\n",
    "El objetivo de desarrollar un modelo predictivo es crear un modelo que sea preciso en datos no vistos. Esto se puede lograr mediante técnicas estadísticas en las que el conjunto de datos de entrenamiento se utiliza cuidadosamente para estimar el rendimiento del modelo en datos nuevos y no vistos. En este tutorial, descubrirás cómo evaluar el rendimiento de tus modelos de gradient boosting con XGBoost en Python. Después de completar este tutorial, sabrás:\n",
    "\n",
    "- Cómo evaluar el rendimiento de tus modelos de XGBoost utilizando conjuntos de datos de entrenamiento y prueba.\n",
    "- Cómo evaluar el rendimiento de tus modelos de XGBoost utilizando validación cruzada k-fold.\n",
    "\n",
    "Vamos a empezar."
   ]
  },
  {
   "cell_type": "markdown",
   "metadata": {},
   "source": [
    "### 6.1 Evaluar Modelos con Conjuntos de Entrenamiento y Prueba\n",
    "\n",
    "El método más simple que podemos utilizar para evaluar el rendimiento de un algoritmo de aprendizaje automático es usar diferentes conjuntos de datos de entrenamiento y prueba. Podemos tomar nuestro conjunto de datos original y dividirlo en dos partes. Entrenamos el algoritmo en la primera parte, luego hacemos predicciones en la segunda parte y evaluamos las predicciones comparándolas con los resultados esperados. El tamaño de la división puede depender del tamaño y las especificaciones de tu conjunto de datos, aunque es común utilizar el 67% de los datos para el entrenamiento y el 33% restante para las pruebas.\n",
    "\n",
    "Esta técnica de evaluación de algoritmos es rápida. Es ideal para conjuntos de datos grandes (millones de registros) donde hay una fuerte evidencia de que ambas divisiones de los datos son representativas del problema subyacente. Debido a la velocidad, es útil usar este enfoque cuando el algoritmo que estás investigando es lento de entrenar. Un inconveniente de esta técnica es que puede tener una alta varianza. Esto significa que las diferencias en los conjuntos de datos de entrenamiento y prueba pueden resultar en diferencias significativas en la estimación de la precisión del modelo. Podemos dividir el conjunto de datos en un conjunto de entrenamiento y prueba utilizando la función `train_test_split()` de la biblioteca scikit-learn. Por ejemplo, podemos dividir el conjunto de datos en un 67% para entrenamiento y un 33% para prueba de la siguiente manera:\n",
    "\n",
    "```bash \n",
    "# split data into train and test sets\n",
    "X_train, X_test, y_train, y_test = train_test_split(X, Y, test_size=0.33, random_state=7)\n",
    "\n",
    "```"
   ]
  },
  {
   "cell_type": "markdown",
   "metadata": {},
   "source": [
    "El listado completo de código se proporciona a continuación utilizando el conjunto de datos de inicio de diabetes en los indios Pima, que se asume que está en el directorio de trabajo actual (ver Sección 4.2). Se ajusta un modelo XGBoost con la configuración predeterminada en el conjunto de datos de entrenamiento y se evalúa en el conjunto de datos de prueba."
   ]
  },
  {
   "cell_type": "code",
   "execution_count": 22,
   "metadata": {},
   "outputs": [
    {
     "name": "stdout",
     "output_type": "stream",
     "text": [
      "Accuracy: 72.83%\n"
     ]
    }
   ],
   "source": [
    "# train-test split evaluation of xgboost model\n",
    "from numpy import loadtxt\n",
    "from xgboost import XGBClassifier\n",
    "from sklearn.model_selection import train_test_split\n",
    "from sklearn.metrics import accuracy_score\n",
    "# load data\n",
    "# dataset = loadtxt('pima-indians-diabetes.csv', delimiter=\",\")\n",
    "# # split data into X and y\n",
    "# X = dataset[:,0:8]\n",
    "# Y = dataset[:,8]\n",
    "\n",
    "# Lectura del DF\n",
    "dataset = pd.read_csv('DataFrames/diabetes.csv', delimiter=\",\")\n",
    "\n",
    "# Convertimos los datos a un array de numpy\n",
    "dataset = dataset.values\n",
    "\n",
    "# Dividir los datos en X e y\n",
    "X = dataset[:,0:8]\n",
    "Y = dataset[:,8]\n",
    "\n",
    "# split data into train and test sets\n",
    "X_train, X_test, y_train, y_test = train_test_split(X, Y, test_size=0.33, random_state=7)\n",
    "# fit model on training data\n",
    "model = XGBClassifier()\n",
    "model.fit(X_train, y_train)\n",
    "# make predictions for test data\n",
    "predictions = model.predict(X_test)\n",
    "# evaluate predictions\n",
    "accuracy = accuracy_score(y_test, predictions)\n",
    "print(\"Accuracy: %.2f%%\" % (accuracy * 100.0))"
   ]
  },
  {
   "cell_type": "markdown",
   "metadata": {},
   "source": [
    "Ejecutar este ejemplo resume el rendimiento del modelo en el conjunto de datos de prueba.\n",
    "\n",
    "```bash \n",
    "    Accuracy: 72.83%\n",
    "```"
   ]
  },
  {
   "cell_type": "markdown",
   "metadata": {},
   "source": [
    "### 6.2 Evaluar Modelos con Validación Cruzada k-Fold\n",
    "\n",
    "La validación cruzada es un enfoque que puedes usar para estimar el rendimiento de un algoritmo de aprendizaje automático con menos varianza que una única división en conjuntos de entrenamiento y prueba. Funciona dividiendo el conjunto de datos en $k$ partes (por ejemplo, $k = 5$ o $k = 10$). Cada división del conjunto de datos se llama pliegue (fold). El algoritmo se entrena en $k − 1$ pliegues, manteniendo uno de reserva y probando en el pliegue reservado. Esto se repite de manera que cada pliegue del conjunto de datos tenga la oportunidad de ser el conjunto de prueba reservado. \n",
    "\n",
    "Después de realizar la validación cruzada, obtienes $k$ puntuaciones de rendimiento diferentes que puedes resumir usando una media y una desviación estándar. El resultado es una estimación más fiable del rendimiento del algoritmo en nuevos datos dado tu conjunto de datos de prueba. Es más preciso porque el algoritmo se entrena y evalúa múltiples veces en diferentes datos. La elección de k debe permitir que el tamaño de cada partición de prueba sea lo suficientemente grande como para ser una muestra razonable del problema, al tiempo que permite suficientes repeticiones de la evaluación de entrenamiento-prueba del algoritmo para proporcionar una estimación justa del rendimiento del algoritmo en datos no vistos. \n",
    "\n",
    "Para conjuntos de datos de tamaño moderado, con miles o decenas de miles de observaciones, son comunes los valores de k de 3, 5 y 10. Podemos usar el soporte de validación cruzada k-fold proporcionado en scikit-learn. Primero, debemos crear el objeto `KFold` especificando el número de pliegues y el tamaño del conjunto de datos. Luego, podemos usar este esquema con el conjunto de datos específico. La función `cross_val_score()` de scikit-learn nos permite evaluar un modelo utilizando el esquema de validación cruzada y devuelve una lista de las puntuaciones para cada modelo entrenado en cada pliegue.\n",
    "\n",
    "\n",
    "```bash\n",
    "    kfold = KFold(n_splits=10, random_state=7) # n_splits:# folds; random_state: semilla de numeros aleatorios\n",
    "    results = cross_val_score(model, X, Y, cv=kfold) # modelo, variablesIndep, VariableDepen, tipo de validacion\n",
    "```"
   ]
  },
  {
   "attachments": {
    "image.png": {
     "image/png": "[encoded data removed]"
    }
   },
   "cell_type": "markdown",
   "metadata": {},
   "source": [
    "![image.png](attachment:image.png)"
   ]
  },
  {
   "cell_type": "markdown",
   "metadata": {},
   "source": [
    "El listado completo del código para evaluar un modelo XGBoost con validación cruzada k-fold se proporciona a continuación para mayor claridad."
   ]
  },
  {
   "cell_type": "code",
   "execution_count": 23,
   "metadata": {},
   "outputs": [
    {
     "name": "stdout",
     "output_type": "stream",
     "text": [
      "Accuracy: 72.66% (4.55%)\n"
     ]
    }
   ],
   "source": [
    "# k-fold cross validation evaluation of xgboost model\n",
    "from numpy import loadtxt\n",
    "from xgboost import XGBClassifier\n",
    "from sklearn.model_selection import KFold\n",
    "from sklearn.model_selection import cross_val_score\n",
    "# load data\n",
    "# dataset = loadtxt('pima-indians-diabetes.csv', delimiter=\",\")\n",
    "# Lectura del DF\n",
    "dataset = pd.read_csv('DataFrames/diabetes.csv', delimiter=\",\")\n",
    "\n",
    "# Convertimos los datos a un array de numpy\n",
    "dataset = dataset.values\n",
    "\n",
    "# Division de datos en variablesInd (Caracterisitcas) y VariableDepen(Etiquetas)\n",
    "X = dataset[:,0:8]\n",
    "Y = dataset[:,8]\n",
    "# CV model\n",
    "model = XGBClassifier() # Crea la instancia el modelo \n",
    "kfold = KFold(n_splits=10, shuffle=True, random_state=7) # El parámetro shuffle=True asegura que los datos se barajen antes de dividirse en pliegues \n",
    "results = cross_val_score(model, X, Y, cv=kfold)\n",
    "print(\"Accuracy: %.2f%% (%.2f%%)\" % (results.mean()*100, results.std()*100))\n"
   ]
  },
  {
   "cell_type": "markdown",
   "metadata": {},
   "source": [
    "`results.mean()`: Calcula la media de las precisiones obtenidas en los 10 pliegues.\n",
    "\n",
    "`results.std()`: Calcula la desviación estándar de las precisiones obtenidas en los 10 pliegues, lo que indica la variabilidad de los resultados."
   ]
  },
  {
   "cell_type": "markdown",
   "metadata": {},
   "source": [
    "Ejecutar este ejemplo resume el rendimiento de la configuración predeterminada del modelo en el conjunto de datos, incluyendo tanto la precisión promedio como la desviación estándar en la clasificación.\n",
    "\n",
    "```bash\n",
    "    Accuracy: 72.66% (4.55%)\n",
    "```\n"
   ]
  },
  {
   "cell_type": "markdown",
   "metadata": {},
   "source": [
    "##### validación cruzada estratificada k-fold"
   ]
  },
  {
   "cell_type": "markdown",
   "metadata": {},
   "source": [
    "Si tienes muchas clases para un problema de modelado predictivo de clasificación o las clases están desbalanceadas (hay muchas más instancias para una clase que para otra), puede ser una buena idea crear pliegues estratificados al realizar la validación cruzada. Esto tiene el efecto de mantener la misma distribución de clases en cada pliegue que en el conjunto de datos de entrenamiento completo al realizar la evaluación de la validación cruzada. La biblioteca scikit-learn proporciona esta capacidad en la clase StratifiedKFold. A continuación, se muestra el mismo ejemplo modificado para usar validación cruzada estratificada para evaluar un modelo XGBoost."
   ]
  },
  {
   "cell_type": "code",
   "execution_count": 24,
   "metadata": {},
   "outputs": [
    {
     "name": "stdout",
     "output_type": "stream",
     "text": [
      "Accuracy: 73.57% (3.40%)\n"
     ]
    }
   ],
   "source": [
    "# stratified k-fold cross validation evaluation of xgboost model\n",
    "from numpy import loadtxt\n",
    "from xgboost import XGBClassifier\n",
    "from sklearn.model_selection import StratifiedKFold\n",
    "from sklearn.model_selection import cross_val_score\n",
    "# load data\n",
    "# dataset = loadtxt('pima-indians-diabetes.csv', delimiter=\",\")\n",
    "# Lectura del DF\n",
    "dataset = pd.read_csv('DataFrames/diabetes.csv', delimiter=\",\")\n",
    "\n",
    "# Convertimos los datos a un array de numpy\n",
    "dataset = dataset.values\n",
    "\n",
    "# split data into X and y\n",
    "X = dataset[:,0:8]\n",
    "Y = dataset[:,8]\n",
    "# CV model\n",
    "model = XGBClassifier()\n",
    "kfold = StratifiedKFold(n_splits=10, shuffle=True, random_state=7)\n",
    "results = cross_val_score(model, X, Y, cv=kfold)\n",
    "print(\"Accuracy: %.2f%% (%.2f%%)\" % (results.mean()*100, results.std()*100))"
   ]
  },
  {
   "cell_type": "markdown",
   "metadata": {},
   "source": [
    "Ejecutar este ejemplo produce la siguiente salida.\n",
    "\n",
    "```bash\n",
    "    Accuracy: 73.57% (3.40%)\n",
    "\n",
    "```\n"
   ]
  },
  {
   "cell_type": "markdown",
   "metadata": {},
   "source": [
    "Notarás que el rendimiento es ligeramente superior y la variación es menor en el resultado."
   ]
  },
  {
   "cell_type": "markdown",
   "metadata": {},
   "source": [
    "### 6.3 Qué Técnicas Utilizar Cuándo\n",
    "\n",
    "- **En general, la validación cruzada con k-fold es el estándar de oro para evaluar el rendimiento de un algoritmo de aprendizaje automático en datos no vistos, con k establecido en 3, 5 o 10.**\n",
    "- **Utiliza la validación cruzada estratificada para hacer cumplir las distribuciones de clases cuando hay un gran número de clases o un desequilibrio en las instancias para cada clase.**\n",
    "- **Usar una división de entrenamiento/prueba es bueno para la velocidad cuando se utiliza un algoritmo lento y produce estimaciones de rendimiento con menor sesgo cuando se utilizan conjuntos de datos grandes.**\n",
    "\n",
    "El mejor consejo es experimentar y encontrar una técnica para tu problema que sea rápida y produzca estimaciones razonables de rendimiento que puedas usar para tomar decisiones. Si tienes dudas, utiliza la validación cruzada con 10 pliegues para problemas de regresión y la validación cruzada estratificada con 10 pliegues para problemas de clasificación.\n",
    "\n"
   ]
  },
  {
   "cell_type": "markdown",
   "metadata": {},
   "source": [
    "### 6.4 Resumen\n",
    "\n",
    "En este tutorial descubriste cómo puedes evaluar tus modelos XGBoost estimando cómo de bien es probable que se desempeñen en datos no vistos. Específicamente, aprendiste:\n",
    "\n",
    "- **Cómo dividir tu conjunto de datos en subconjuntos de entrenamiento y prueba para entrenar y evaluar el rendimiento de tu modelo.**\n",
    "- **Cómo puedes crear k modelos XGBoost en diferentes subconjuntos del conjunto de datos y promediar las puntuaciones para obtener una estimación más robusta del rendimiento del modelo.**\n",
    "- **Heurísticas para ayudar a elegir entre la división entrenamiento-prueba y la validación cruzada con k-pliegues para tu problema.**\n",
    "\n",
    "En el próximo tutorial, descubrirás cómo puedes utilizar la visualización para comprender mejor los árboles potenciados dentro de un modelo entrenado."
   ]
  },
  {
   "cell_type": "markdown",
   "metadata": {},
   "source": [
    "# Capítulo 7\n",
    "### Visualiza los Árboles Individuales Dentro de un Modelo\n",
    "\n",
    "Trazar árboles de decisión individuales puede proporcionar información sobre el proceso de *gradient boosting* para un conjunto de datos determinado. En este tutorial, descubrirás cómo puedes trazar árboles de decisión individuales a partir de un modelo de *gradient boosting* entrenado utilizando XGBoost en Python. ¡Comencemos!"
   ]
  },
  {
   "cell_type": "markdown",
   "metadata": {},
   "source": [
    "### 7.1 Trazar un Solo Árbol de Decisión de XGBoost\n",
    "\n",
    "La API de Python de XGBoost proporciona una función para trazar árboles de decisión dentro de un modelo entrenado de XGBoost. Esta capacidad se ofrece a través de la función `plot_tree()`, que toma un modelo entrenado como primer argumento. Por ejemplo:\n",
    "\n",
    "```bash\n",
    "plot_tree(model)\n",
    "```\n"
   ]
  },
  {
   "cell_type": "markdown",
   "metadata": {},
   "source": [
    "\n",
    "Esto traza el primer árbol en el modelo (el árbol en el índice 0). Este gráfico se puede guardar en un archivo o mostrar en pantalla usando Matplotlib y `pyplot.show()`. Esta capacidad de trazado requiere que tengas instalada la biblioteca `graphviz`. Podemos crear un modelo XGBoost en el conjunto de datos sobre la aparición de diabetes en los indios Pima y trazar el primer árbol en el modelo (ver Sección 4.2). El código completo se proporciona a continuación."
   ]
  },
  {
   "cell_type": "code",
   "execution_count": 25,
   "metadata": {},
   "outputs": [
    {
     "data": {
      "image/png": "[encoded data removed]",
      "text/plain": [
       "<Figure size 640x480 with 1 Axes>"
      ]
     },
     "metadata": {},
     "output_type": "display_data"
    }
   ],
   "source": [
    "# plot decision tree\n",
    "from numpy import loadtxt\n",
    "from xgboost import XGBClassifier\n",
    "from xgboost import plot_tree\n",
    "from matplotlib import pyplot\n",
    "# load data\n",
    "# dataset = loadtxt('pima-indians-diabetes.csv', delimiter=\",\")\n",
    "# Lectura del DF\n",
    "dataset = pd.read_csv('DataFrames/diabetes.csv', delimiter=\",\")\n",
    "\n",
    "# Convertimos los datos a un array de numpy\n",
    "dataset = dataset.values\n",
    "\n",
    "# split data into X and y\n",
    "X = dataset[:,0:8]\n",
    "y = dataset[:,8]\n",
    "# fit model on training data\n",
    "model = XGBClassifier()\n",
    "model.fit(X, y)\n",
    "# plot single tree\n",
    "plot_tree(model)\n",
    "pyplot.show()\n",
    "\n"
   ]
  },
  {
   "cell_type": "code",
   "execution_count": 26,
   "metadata": {},
   "outputs": [],
   "source": [
    "## Grafica del Boosting \n",
    "# Exportacion el modelo a un formato dot\n",
    "dot_data = xgb.to_graphviz(model, num_trees=4, rankdir='LR')\n",
    "\n",
    "# Guardamos en un archivo .dot\n",
    "with open('Graficos/treeEjemplo4.dot', 'w') as f:\n",
    "    f.write(dot_data.source)\n",
    "\n",
    "# Convertir .dot a .png usando Graphviz\n",
    "with open('Graficos/treeEjemplo4.png', 'wb') as f:\n",
    "    f.write(dot_data.pipe(format='png'))\n"
   ]
  },
  {
   "cell_type": "markdown",
   "metadata": {},
   "source": [
    "Ejecutar el código genera un gráfico del primer árbol de decisión en el modelo (índice 0), mostrando las características y los valores de características para cada división, así como los nodos hoja de salida.\n",
    "\n",
    "![Arbol](Graficos/treeEjemplo.png)\n",
    "\n"
   ]
  },
  {
   "cell_type": "markdown",
   "metadata": {},
   "source": [
    "Puedes ver que las variables están nombradas automáticamente como `f1` y `f5`, correspondientes a los índices de características en el array de entrada. Puedes observar las decisiones de división dentro de cada nodo y los diferentes colores para las divisiones izquierda y derecha (azul y rojo). La función `plot_tree()` tiene algunos parámetros que puedes ajustar. Puedes visualizar gráficos específicos al indicar su índice en el argumento `num_trees`. Por ejemplo, para trazar el quinto árbol impulsado en la secuencia, puedes usar el siguiente código:\n",
    "\n",
    "```bash\n",
    "    plot_tree(model, num_trees=4)\n",
    "\n",
    "```\n"
   ]
  },
  {
   "cell_type": "markdown",
   "metadata": {},
   "source": [
    "También puedes cambiar el diseño del gráfico para que sea de izquierda a derecha (más fácil de leer) modificando el argumento `rankdir` a `LR` (de izquierda a derecha) en lugar del valor predeterminado `TB` (de arriba hacia abajo). Por ejemplo:\n",
    "\n",
    "```bash\n",
    "    plot_tree(model, num_trees=0, rankdir='LR')\n",
    "```\n"
   ]
  },
  {
   "cell_type": "markdown",
   "metadata": {},
   "source": [
    "El resultado de trazar el árbol en el diseño de izquierda a derecha se muestra a continuación.\n",
    "\n",
    "![Arbol](Graficos/treeEjemplo4.png)"
   ]
  },
  {
   "cell_type": "markdown",
   "metadata": {},
   "source": [
    "7.2 Resumen  \n",
    "En este tutorial aprendiste cómo trazar árboles de decisión individuales a partir de un modelo de **XGBoost** entrenado en Python. Esto concluye la Parte II de este libro. A continuación, en la Parte III, construirás sobre estas habilidades básicas con **XGBoost**, comenzando con cómo guardar y cargar un modelo de **XGBoost** en un archivo."
   ]
  },
  {
   "cell_type": "markdown",
   "metadata": {},
   "source": [
    "# Parte III\n",
    "\n"
   ]
  },
  {
   "cell_type": "markdown",
   "metadata": {},
   "source": [
    "## XGBoost Avanzado "
   ]
  },
  {
   "cell_type": "markdown",
   "metadata": {},
   "source": [
    "## Capitulo 8 "
   ]
  },
  {
   "cell_type": "markdown",
   "metadata": {},
   "source": [
    "### Guardar y Cargar Modelos Entrenados de XGBoost"
   ]
  },
  {
   "cell_type": "markdown",
   "metadata": {},
   "source": [
    "\n",
    "XGBoost se puede utilizar para crear algunos de los modelos más eficientes para datos tabulares utilizando el algoritmo de boosting por gradiente. Una vez entrenado, es a menudo una buena práctica guardar tu modelo en un archivo para su uso posterior en la realización de predicciones con nuevos conjuntos de datos de prueba y validación, y con datos completamente nuevos. En este tutorial, descubrirás cómo guardar tus modelos de XGBoost en un archivo utilizando la API estándar de pickle en Python. Después de completar este tutorial, sabrás:\n",
    "\n",
    "- Cómo guardar y luego cargar tu modelo entrenado de XGBoost utilizando pickle.\n",
    "- Cómo guardar y luego cargar tu modelo entrenado de XGBoost utilizando joblib.\n",
    "\n",
    "Comencemos."
   ]
  },
  {
   "cell_type": "markdown",
   "metadata": {},
   "source": [
    "### 8.1 Serializar Modelos con Pickle"
   ]
  },
  {
   "cell_type": "markdown",
   "metadata": {},
   "source": [
    "\n",
    "\n",
    "Pickle es la forma estándar de serializar objetos en Python. Puedes usar la API de pickle en Python para serializar tus algoritmos de aprendizaje automático y guardar el formato serializado en un archivo, por ejemplo:"
   ]
  },
  {
   "cell_type": "markdown",
   "metadata": {},
   "source": [
    "```bash\n",
    "    # save model to file\n",
    "    pickle.dump(model, open(\"pima.pickle.dat\", \"wb\"))\n",
    "\n",
    "\n",
    "```"
   ]
  },
  {
   "cell_type": "markdown",
   "metadata": {},
   "source": [
    "Más tarde, puedes cargar este archivo para deserializar tu modelo y usarlo para hacer nuevas predicciones, por ejemplo:"
   ]
  },
  {
   "cell_type": "markdown",
   "metadata": {},
   "source": [
    "```bash \n",
    "    # load model from file\n",
    "    loaded_model = pickle.load(open(\"pima.pickle.dat\", \"rb\"))\n",
    "\n",
    "\n",
    "```"
   ]
  },
  {
   "cell_type": "markdown",
   "metadata": {},
   "source": [
    "El siguiente ejemplo demuestra cómo puedes entrenar un modelo de XGBoost en el conjunto de datos de aparición de diabetes en los Indios Pima (ver Sección 4.2), guardar el modelo en un archivo y luego cargarlo para hacer predicciones. A continuación, se proporciona el listado completo del código para mayor claridad."
   ]
  },
  {
   "cell_type": "code",
   "execution_count": 27,
   "metadata": {},
   "outputs": [
    {
     "name": "stdout",
     "output_type": "stream",
     "text": [
      "Saved model to: pima.pickle.dat\n",
      "Loaded model from: pima.pickle.dat\n",
      "Accuracy: 72.83%\n"
     ]
    }
   ],
   "source": [
    "# Train XGBoost model, save to file using pickle, load and make predictions\n",
    "from numpy import loadtxt\n",
    "import pandas as pd\n",
    "from xgboost import XGBClassifier\n",
    "import pickle\n",
    "from sklearn.model_selection import train_test_split\n",
    "from sklearn.metrics import accuracy_score\n",
    "# load data\n",
    "# dataset = loadtxt('pima-indians-diabetes.csv', delimiter=\",\")\n",
    "# Lectura del DF\n",
    "dataset = pd.read_csv('DataFrames/diabetes.csv', delimiter=\",\")\n",
    "\n",
    "# Convertimos los datos a un array de numpy\n",
    "dataset = dataset.values\n",
    "\n",
    "# split data into X and y\n",
    "X = dataset[:,0:8]\n",
    "Y = dataset[:,8]\n",
    "\n",
    "# split data into train and test sets\n",
    "seed = 7\n",
    "test_size = 0.33\n",
    "X_train, X_test, y_train, y_test = train_test_split(X, Y, test_size=test_size,\n",
    "random_state=seed)\n",
    "\n",
    "# fit model on training data\n",
    "model = XGBClassifier()\n",
    "model.fit(X_train, y_train)\n",
    "\n",
    "# save model to file\n",
    "pickle.dump(model, open(\"pima.pickle.dat\", \"wb\"))\n",
    "print(\"Saved model to: pima.pickle.dat\")\n",
    "\n",
    "# some time later...\n",
    "# load model from file\n",
    "loaded_model = pickle.load(open(\"pima.pickle.dat\", \"rb\"))\n",
    "print(\"Loaded model from: pima.pickle.dat\")\n",
    "\n",
    "# make predictions for test data\n",
    "predictions = loaded_model.predict(X_test)\n",
    "\n",
    "# evaluate predictions\n",
    "accuracy = accuracy_score(y_test, predictions)\n",
    "print(\"Accuracy: %.2f%%\" % (accuracy * 100.0))\n"
   ]
  },
  {
   "cell_type": "markdown",
   "metadata": {},
   "source": [
    "Ejecutar este ejemplo guarda tu modelo entrenado de XGBoost en el archivo pickle `pima.pickle.dat` en el directorio de trabajo actual. Después de cargar el modelo y hacer predicciones en el conjunto de datos de prueba, se imprime la precisión del modelo."
   ]
  },
  {
   "cell_type": "markdown",
   "metadata": {},
   "source": [
    "```bash\n",
    "Saved model to: pima.pickle.dat\n",
    "Loaded model from: pima.pickle.dat\n",
    "Accuracy: 72.83%\n",
    "```"
   ]
  },
  {
   "cell_type": "markdown",
   "metadata": {},
   "source": [
    "### 8.2 Serializar Modelos con Joblib  \n",
    "\n",
    "Joblib es parte del ecosistema de SciPy y proporciona utilidades para la canalización de trabajos en Python. La API de Joblib ofrece herramientas para guardar y cargar objetos de Python que utilizan estructuras de datos de NumPy de manera eficiente. Puede ser una opción más rápida para utilizar con modelos muy grandes. La API se parece mucho a la API de pickle, por ejemplo, puedes guardar tu modelo entrenado de la siguiente manera:"
   ]
  },
  {
   "cell_type": "markdown",
   "metadata": {},
   "source": [
    "```bash\n",
    "    # save model to file\n",
    "    joblib.dump(model, \"pima.joblib.dat\")\n",
    "```"
   ]
  },
  {
   "cell_type": "markdown",
   "metadata": {},
   "source": [
    "Más tarde, puedes cargar el modelo desde el archivo y usarlo para hacer predicciones de la siguiente manera:"
   ]
  },
  {
   "cell_type": "markdown",
   "metadata": {},
   "source": [
    "```bash\n",
    "    # load model from file\n",
    "    loaded_model = joblib.load(\"pima.joblib.dat\")\n",
    "\n",
    "```"
   ]
  },
  {
   "cell_type": "markdown",
   "metadata": {},
   "source": [
    "El siguiente ejemplo demuestra cómo puedes entrenar un modelo de XGBoost para clasificación en el conjunto de datos de aparición de diabetes en los Indios Pima, guardar el modelo en un archivo utilizando Joblib y cargarlo más tarde para hacer predicciones."
   ]
  },
  {
   "cell_type": "code",
   "execution_count": 28,
   "metadata": {},
   "outputs": [
    {
     "name": "stdout",
     "output_type": "stream",
     "text": [
      "Requirement already satisfied: joblib in c:\\python312\\lib\\site-packages (1.3.2)\n"
     ]
    },
    {
     "name": "stderr",
     "output_type": "stream",
     "text": [
      "\n",
      "[notice] A new release of pip is available: 24.0 -> 24.2\n",
      "[notice] To update, run: python.exe -m pip install --upgrade pip\n"
     ]
    }
   ],
   "source": [
    "!pip install joblib\n"
   ]
  },
  {
   "cell_type": "code",
   "execution_count": 29,
   "metadata": {},
   "outputs": [
    {
     "name": "stdout",
     "output_type": "stream",
     "text": [
      "Saved model to: pima.joblib.dat\n",
      "Loaded model from: pima.joblib.dat\n",
      "Accuracy: 72.83%\n"
     ]
    }
   ],
   "source": [
    "# Train XGBoost model, save to file using joblib, load and make predictions\n",
    "from numpy import loadtxt\n",
    "from xgboost import XGBClassifier\n",
    "# from sklearn.externals import joblib\n",
    "from sklearn.model_selection import train_test_split\n",
    "from sklearn.metrics import accuracy_score\n",
    "import pandas as pd\n",
    "import joblib\n",
    "# load data\n",
    "# dataset = loadtxt('pima-indians-diabetes.csv', delimiter=\",\")\n",
    "# dataset = loadtxt('pima-indians-diabetes.csv', delimiter=\",\")\n",
    "# Lectura del DF\n",
    "dataset = pd.read_csv('DataFrames/diabetes.csv', delimiter=\",\")\n",
    "\n",
    "# Convertimos los datos a un array de numpy\n",
    "dataset = dataset.values\n",
    "\n",
    "# split data into X and y\n",
    "X = dataset[:,0:8]\n",
    "Y = dataset[:,8]\n",
    "# split data into train and test sets\n",
    "seed = 7\n",
    "test_size = 0.33\n",
    "X_train, X_test, y_train, y_test = train_test_split(X, Y, test_size=test_size,\n",
    "random_state=seed)\n",
    "# fit model on training data\n",
    "model = XGBClassifier()\n",
    "model.fit(X_train, y_train)\n",
    "# save model to file\n",
    "joblib.dump(model, \"pima.joblib.dat\")\n",
    "print(\"Saved model to: pima.joblib.dat\")\n",
    "# some time later...\n",
    "# load model from file\n",
    "loaded_model = joblib.load(\"pima.joblib.dat\")\n",
    "print(\"Loaded model from: pima.joblib.dat\")\n",
    "# make predictions for test data\n",
    "predictions = loaded_model.predict(X_test)\n",
    "# evaluate predictions\n",
    "accuracy = accuracy_score(y_test, predictions)\n",
    "print(\"Accuracy: %.2f%%\" % (accuracy * 100.0))\n"
   ]
  },
  {
   "cell_type": "markdown",
   "metadata": {},
   "source": [
    "Ejecutar el ejemplo guarda el modelo en un archivo llamado pima.joblib.dat en el directorio de trabajo actual y también crea un archivo para cada array de NumPy dentro del modelo (en este caso, dos archivos adicionales)."
   ]
  },
  {
   "cell_type": "markdown",
   "metadata": {},
   "source": [
    "```bash \n",
    "    pima.joblib.dat\n",
    "    pima.joblib.dat_01.npy\n",
    "    pima.joblib.dat_02.npy\n",
    "\n",
    "```"
   ]
  },
  {
   "cell_type": "markdown",
   "metadata": {},
   "source": [
    "Después de que el modelo se carga, se evalúa en el conjunto de datos de prueba y se imprime la precisión de las predicciones."
   ]
  },
  {
   "cell_type": "markdown",
   "metadata": {},
   "source": [
    "```bash \n",
    "    Saved model to: pima.joblib.dat\n",
    "    Loaded model from: pima.joblib.dat\n",
    "    Accuracy: 77.95%\n",
    "```"
   ]
  },
  {
   "cell_type": "markdown",
   "metadata": {},
   "source": [
    "### 8.3 Resumen"
   ]
  },
  {
   "cell_type": "markdown",
   "metadata": {},
   "source": [
    "\n",
    "\n",
    "En este tutorial, descubriste cómo serializar tus modelos XGBoost entrenados y cargarlos posteriormente para hacer predicciones. Específicamente, aprendiste:\n",
    "\n",
    "- Cómo serializar y luego cargar tu modelo XGBoost entrenado utilizando la API de `pickle`.\n",
    "- Cómo serializar y luego cargar tu modelo XGBoost entrenado utilizando la API de `Joblib`.\n",
    "\n",
    "En el próximo tutorial, descubrirás cómo puedes usar la importancia de las características calculada por un modelo XGBoost para comprender mejor tu conjunto de datos e incluso realizar selección de características."
   ]
  },
  {
   "cell_type": "markdown",
   "metadata": {},
   "source": [
    "# Capitulo 9"
   ]
  },
  {
   "cell_type": "markdown",
   "metadata": {},
   "source": [
    "## Importancia de las características con XGBoost y selección de características"
   ]
  },
  {
   "cell_type": "markdown",
   "metadata": {},
   "source": [
    "Un beneficio de utilizar métodos de ensamblaje de árboles de decisión, como el gradient boosting, es que pueden proporcionar automáticamente estimaciones de la importancia de las características a partir de un modelo predictivo entrenado. En este tutorial descubrirás cómo puedes estimar la importancia de las características para un problema de modelado predictivo utilizando la biblioteca XGBoost en Python. Después de leer este tutorial sabrás:\n",
    "\n",
    "- **Cómo se calcula la importancia de las características utilizando el algoritmo de gradient boosting.**\n",
    "- **Cómo trazar la importancia de las características en Python calculada por el modelo XGBoost.**\n",
    "- **Cómo usar la importancia de las características calculada por XGBoost para realizar selección de características.**\n",
    "\n",
    "¡Comencemos!"
   ]
  },
  {
   "cell_type": "markdown",
   "metadata": {},
   "source": [
    "### 9.1 Importancia de las Características en el Gradient Boosting"
   ]
  },
  {
   "cell_type": "markdown",
   "metadata": {},
   "source": [
    "\n",
    "\n",
    "Un beneficio de utilizar el gradient boosting es que, una vez que se construyen los árboles de decisión potenciados, es relativamente sencillo recuperar las puntuaciones de importancia para cada atributo. En general, la importancia proporciona una puntuación que indica cuán útil o valiosa fue cada característica en la construcción de los árboles de decisión potenciados dentro del modelo. Cuanto más se utiliza un atributo para tomar decisiones clave con los árboles de decisión, mayor es su importancia relativa. Esta importancia se calcula explícitamente para cada atributo en el conjunto de datos, permitiendo clasificar y comparar los atributos entre sí.\n",
    "\n",
    "La importancia se calcula para un solo árbol de decisión por la cantidad en que cada punto de división de atributo mejora la medida de rendimiento, ponderada por el número de observaciones que el nodo es responsable de. La medida de rendimiento puede ser la pureza (índice de Gini) utilizada para seleccionar los puntos de división o alguna otra función de error más específica. Las importancias de las características se promedian luego a través de todos los árboles de decisión dentro del modelo.\n",
    "\n",
    "Para obtener más información técnica sobre cómo se calcula la importancia de las características en los árboles de decisión potenciados, consulta la Sección 10.13.1 **\"Importancia Relativa de las Variables Predictoras\"** del libro *The Elements of Statistical Learning: Data Mining, Inference, and Prediction*, página 367."
   ]
  },
  {
   "cell_type": "markdown",
   "metadata": {},
   "source": [
    "### 9.2 Graficar la Importancia de las Características Manualmente\n"
   ]
  },
  {
   "cell_type": "markdown",
   "metadata": {},
   "source": [
    "\n",
    "\n",
    "Un modelo XGBoost entrenado calcula automáticamente la importancia de las características para tu problema de modelado predictivo. Estas puntuaciones de importancia están disponibles en la variable miembro feature_importances_ del modelo entrenado. Por ejemplo, se pueden imprimir directamente de la siguiente manera:"
   ]
  },
  {
   "cell_type": "markdown",
   "metadata": {},
   "source": [
    "```bash \n",
    "    print(model.feature_importances_)\n",
    "\n",
    "```"
   ]
  },
  {
   "cell_type": "markdown",
   "metadata": {},
   "source": [
    "Podemos graficar estas puntuaciones en un gráfico de barras directamente para obtener una indicación visual de la importancia relativa de cada característica en el conjunto de datos. Por ejemplo:"
   ]
  },
  {
   "cell_type": "markdown",
   "metadata": {},
   "source": [
    "```bash \n",
    "    # plot\n",
    "    pyplot.bar(range(len(model.feature_importances_)), model.feature_importances_)\n",
    "    pyplot.show()\n",
    "\n",
    "```"
   ]
  },
  {
   "cell_type": "markdown",
   "metadata": {},
   "source": [
    "Podemos demostrar esto entrenando un modelo XGBoost con el conjunto de datos de inicio de diabetes de los Pima Indians (ver Sección 4.2) y creando un gráfico de barras a partir de las importancias de las características calculadas."
   ]
  },
  {
   "cell_type": "code",
   "execution_count": 30,
   "metadata": {},
   "outputs": [
    {
     "name": "stdout",
     "output_type": "stream",
     "text": [
      "[0.07468373 0.2694981  0.09356754 0.09020481 0.08288945 0.15198407\n",
      " 0.1017815  0.13539082]\n"
     ]
    },
    {
     "data": {
      "image/png": "[encoded data removed]",
      "text/plain": [
       "<Figure size 640x480 with 1 Axes>"
      ]
     },
     "metadata": {},
     "output_type": "display_data"
    }
   ],
   "source": [
    "# plot feature importance manually\n",
    "from numpy import loadtxt\n",
    "from xgboost import XGBClassifier\n",
    "from matplotlib import pyplot\n",
    "\n",
    "# load data \n",
    "# dataset = loadtxt('pima-indians-diabetes.csv', delimiter=\",\")\n",
    "# dataset = loadtxt('pima-indians-diabetes.csv', delimiter=\",\")\n",
    "\n",
    "# Lectura del DF\n",
    "dataset = pd.read_csv('DataFrames/diabetes.csv', delimiter=\",\")\n",
    "\n",
    "# Convertimos los datos a un array de numpy\n",
    "dataset = dataset.values\n",
    "\n",
    "X = dataset[:,0:8]\n",
    "y = dataset[:,8]\n",
    "# fit model on training data\n",
    "model = XGBClassifier()\n",
    "model.fit(X, y)\n",
    "# feature importance\n",
    "print(model.feature_importances_)\n",
    "# plot\n",
    "pyplot.bar(range(len(model.feature_importances_)), model.feature_importances_)\n",
    "pyplot.show()\n"
   ]
  },
  {
   "cell_type": "markdown",
   "metadata": {},
   "source": [
    "Ejecutar este ejemplo primero muestra las puntuaciones de importancia:"
   ]
  },
  {
   "cell_type": "markdown",
   "metadata": {},
   "source": [
    "```bash \n",
    "[ 0.07468373 0.2694981  0.09356754 0.09020481 0.08288945 0.15198407 0.1017815   0.13539082 ]\n",
    "\n",
    "```"
   ]
  },
  {
   "cell_type": "markdown",
   "metadata": {},
   "source": [
    "También obtenemos un gráfico de barras de las importancias relativas."
   ]
  },
  {
   "attachments": {
    "image.png": {
     "image/png": "[encoded data removed]"
    }
   },
   "cell_type": "markdown",
   "metadata": {},
   "source": [
    "![image.png](attachment:image.png)"
   ]
  },
  {
   "cell_type": "markdown",
   "metadata": {},
   "source": [
    "Una desventaja de este gráfico es que las características están ordenadas por su índice de entrada en lugar de por su importancia. Podríamos ordenar las características antes de graficar. Afortunadamente, hay una función de gráfico incorporada que nos puede ayudar."
   ]
  },
  {
   "cell_type": "markdown",
   "metadata": {},
   "source": [
    "### 9.3 Usando la Función Incorporada de Importancia de Características de XGBoost"
   ]
  },
  {
   "cell_type": "markdown",
   "metadata": {},
   "source": [
    "\n",
    "La biblioteca XGBoost proporciona una función incorporada para graficar las características ordenadas por su importancia. La función se llama `plot_importance()` y se puede utilizar de la siguiente manera:"
   ]
  },
  {
   "cell_type": "markdown",
   "metadata": {},
   "source": [
    "```bash\n",
    "    # plot feature importance\n",
    "    plot_importance(model)\n",
    "    pyplot.show()\n",
    "\n",
    "```"
   ]
  },
  {
   "cell_type": "markdown",
   "metadata": {},
   "source": [
    "Por ejemplo, a continuación se muestra un código completo para graficar la importancia de las características para el conjunto de datos de los Pima Indians utilizando la función incorporada `plot_importance()`."
   ]
  },
  {
   "cell_type": "code",
   "execution_count": 31,
   "metadata": {},
   "outputs": [
    {
     "data": {
      "image/png": "[encoded data removed]",
      "text/plain": [
       "<Figure size 640x480 with 1 Axes>"
      ]
     },
     "metadata": {},
     "output_type": "display_data"
    }
   ],
   "source": [
    "# plot feature importance using built-in function\n",
    "from numpy import loadtxt\n",
    "from xgboost import XGBClassifier\n",
    "from xgboost import plot_importance\n",
    "from matplotlib import pyplot\n",
    "# load data\n",
    "# dataset = loadtxt('pima-indians-diabetes.csv', delimiter=\",\")\n",
    "# Lectura del DF\n",
    "dataset = pd.read_csv('DataFrames/diabetes.csv', delimiter=\",\")\n",
    "\n",
    "# Convertimos los datos a un array de numpy\n",
    "dataset = dataset.values\n",
    "\n",
    "# split data into X and y\n",
    "X = dataset[:,0:8]\n",
    "y = dataset[:,8]\n",
    "# fit model on training data\n",
    "model = XGBClassifier()\n",
    "model.fit(X, y)\n",
    "# plot feature importance\n",
    "plot_importance(model)\n",
    "pyplot.show()\n"
   ]
  },
  {
   "cell_type": "markdown",
   "metadata": {},
   "source": [
    "Puedes observar que las características están automáticamente nombradas de acuerdo a su índice en el array de entrada (X), de F0 a F7. Al mapear manualmente estos índices a los nombres en la descripción del problema, podemos ver que el gráfico muestra que F5 (índice de masa corporal) tiene la mayor importancia y F3 (grosor del pliegue cutáneo) tiene la menor importancia."
   ]
  },
  {
   "cell_type": "markdown",
   "metadata": {},
   "source": [
    "\n",
    "# Parte IV \n",
    "\n",
    "##  Ajuste de XGBoost"
   ]
  },
  {
   "cell_type": "markdown",
   "metadata": {},
   "source": [
    "## Capitulo 13"
   ]
  },
  {
   "cell_type": "markdown",
   "metadata": {},
   "source": [
    "### Cómo Configurar el Algoritmo de Gradient Boosting"
   ]
  },
  {
   "cell_type": "markdown",
   "metadata": {},
   "source": [
    "El gradient boosting es una de las técnicas más poderosas para el aprendizaje automático aplicado y, como tal, se está convirtiendo rápidamente en una de las más populares. Pero, ¿cómo se configura el gradient boosting para tu problema? En este tutorial descubrirás cómo puedes configurar el gradient boosting para tu problema de aprendizaje automático, revisando configuraciones reportadas en libros, artículos y como resultado de competiciones. Después de leer este tutorial, sabrás:**\n",
    "\n",
    "- Cómo configurar el gradient boosting según las fuentes originales.\n",
    "- Ideas para configurar el algoritmo a partir de valores predeterminados y sugerencias en implementaciones estándar.\n",
    "- Reglas prácticas para configurar el gradient boosting y XGBoost de acuerdo con competidores destacados de Kaggle.\n",
    "\n",
    "**¡Comencemos!**"
   ]
  },
  {
   "cell_type": "markdown",
   "metadata": {},
   "source": [
    "\n",
    "### 13.1 Consejos de Configuración de Fuentes Principales\n",
    "\n",
    "En el artículo de 1999, **Greedy Function Approximation: A Gradient Boosting Machine**, Jerome Friedman comenta sobre el compromiso entre el número de árboles (M) y la tasa de aprendizaje ($v$):\n",
    "  \n",
    "*\"El compromiso $v-M$ es claramente evidente; valores más pequeños de $v$ dan lugar a valores óptimos más altos de M. También proporcionan mayor precisión, con un retorno decreciente para $v < 0.125$. La tasa de error de clasificación es muy plana para $M > 200$, por lo que los valores óptimos de $M$ son inestables. [...] La naturaleza cualitativa de estos resultados es bastante universal.\"*\n",
    "\n",
    "Sugiere establecer primero un valor grande para el número de árboles y luego ajustar el parámetro de reducción (shrinkage) para obtener los mejores resultados. Los estudios en el artículo preferían un valor de shrinkage de 0.1, un número de árboles en el rango de 100 a 500 y el número de nodos terminales en un árbol entre 2 y 8. En el artículo de 1999 **Stochastic Gradient Boosting**, Friedman reiteró la preferencia por el parámetro de reducción:\n",
    "\n",
    "*\"El parámetro de 'reducción' $0 < v < 1$ controla la tasa de aprendizaje del procedimiento. Empíricamente [...], se encontró que valores pequeños $(v ≤ 0.1)$ llevan a un mejor error de generalización.\"*\n",
    "\n",
    "En el artículo, Friedman introduce e investiga empíricamente el **gradient boosting estocástico** (muestreo basado en filas). Encuentra que casi todos los porcentajes de muestreo son mejores que el boosting determinista y que quizás un valor de 30% al 50% es adecuado para algunos problemas y del 50% al 80% para otros.\n",
    "\n",
    "*\"... el mejor valor de la fracción de muestreo [...] es aproximadamente 40% $(f = 0.4)$ [...] Sin embargo, muestrear solo el 30% o incluso el 20% de los datos en cada iteración da una mejora considerable respecto a no muestrear, con un aumento de velocidad computacional por factores de 3 y 5 respectivamente.\"*\n",
    "\n",
    "También estudió el efecto del número de nodos terminales en los árboles, encontrando que valores como 3 y 6 son mejores que valores mayores como 11, 21 y 41.\n",
    "\n",
    "*\"En ambos casos, el tamaño óptimo del árbol promediado sobre 100 objetivos es L = 6. Aumentar la capacidad del modelo base usando árboles más grandes degrada el rendimiento debido al 'sobreajuste'.\"*\n",
    "\n",
    "En su charla titulada **Gradient Boosting Machine Learning** en H2O, Trevor Hastie comentó que, en general, el gradient boosting funciona mejor que el random forest, que a su vez supera a los árboles de decisión individuales.\n",
    "\n",
    "**Gradient Boosting > Random Forest > Bagging > Árboles Individuales**\n",
    "\n",
    "El capítulo 10 titulado **Boosting and Additive Trees** del libro *The Elements of Statistical Learning: Data Mining, Inference, and Prediction* está dedicado al boosting. En él, proporcionan tanto heurísticas para configurar el gradient boosting como algunos estudios empíricos. Comentan que un buen valor para el número de nodos en el árbol (J) es alrededor de 6, con valores generalmente buenos en el rango de 4 a 8.\n",
    "\n",
    "*\"Aunque en muchas aplicaciones $J = 2$ será insuficiente, es poco probable que se necesite $J > 10$. La experiencia hasta ahora indica que $4 ≤ J ≤ 8$ funciona bien en el contexto de boosting, con resultados bastante insensibles a elecciones específicas en este rango.\"*\n",
    "\n",
    "Sugieren monitorear el rendimiento en un conjunto de validación para calibrar el número de árboles y utilizar un procedimiento de detención temprana una vez que el rendimiento en el conjunto de validación comience a degradarse. Al igual que en el primer artículo de Friedman sobre gradient boosting, comentan sobre el compromiso entre el número de árboles (M) y la tasa de aprendizaje ($v$), y recomiendan un valor pequeño para la tasa de aprendizaje (< 0.1).\n",
    "\n",
    "*\"Valores más pequeños de $v$ conducen a valores más grandes de M para el mismo riesgo de entrenamiento, por lo que existe un compromiso entre ambos. [...] De hecho, la mejor estrategia parece ser establecer $v$ muy pequeño ($v < 0.1$) y luego elegir M mediante detención temprana.\"*\n",
    "\n",
    "Asimismo, como en el artículo de Friedman sobre **stochastic gradient boosting**, recomiendan un porcentaje de muestreo ($n$) sin reemplazo con un valor de alrededor del 50%.\n",
    "\n",
    "*\"Un valor típico para $n$ puede ser $1/2$, aunque para un gran $N$, $n$ puede ser sustancialmente menor que $1/2$.\"*"
   ]
  },
  {
   "cell_type": "markdown",
   "metadata": {},
   "source": [
    "\n",
    "\n",
    " ### 13.2 Consejos de Configuración desde R\n",
    "\n",
    "El algoritmo de gradient boosting está implementado en R como el paquete **gbm**. Revisando la documentación del paquete, la función `gbm()` especifica valores predeterminados razonables:\n",
    "\n",
    "- `n.trees = 100` (número de árboles).\n",
    "- `interaction.depth = 1` (número de hojas).\n",
    "- `n.minobsinnode = 10` (número mínimo de muestras en los nodos terminales del árbol).\n",
    "- `shrinkage = 0.001` (tasa de aprendizaje).\n",
    "\n",
    "Es interesante notar que se usa un factor de reducción más pequeño y que los **stumps** (árboles muy simples con una sola decisión) son el valor predeterminado. Greg Ridgeway explica el uso de un **shrinkage** pequeño. En la viñeta del paquete **gbm** en R, titulada *Generalized Boosted Models: A Guide to the gbm Package*, Ridgeway proporciona algunas heurísticas de uso. Sugiere primero establecer la tasa de aprendizaje (**lambda**) lo más pequeña posible y luego ajustar el número de árboles (iteraciones o T) usando validación cruzada:\n",
    "\n",
    "*\"En la práctica, configuro lambda lo más pequeño posible y luego selecciono T mediante validación cruzada. El rendimiento es mejor cuando lambda es lo más pequeño posible, con una utilidad marginal decreciente para valores cada vez menores de lambda.\"*\n",
    "\n",
    "Comenta sobre su razonamiento para establecer la reducción predeterminada en el valor pequeño de 0.001 en lugar de 0.1:\n",
    "\n",
    "*\"Es importante saber que valores más pequeños de shrinkage (casi) siempre ofrecen un mejor rendimiento predictivo. Es decir, establecer shrinkage = 0.001 casi con toda seguridad resultará en un modelo con mejor rendimiento predictivo fuera de muestra que establecer shrinkage = 0.01. [...] El modelo con shrinkage = 0.001 probablemente requerirá diez veces más iteraciones que el modelo con shrinkage = 0.01.\"*\n",
    "\n",
    "Ridgeway también usa un número bastante grande de árboles (aquí llamados iteraciones), miles en lugar de cientos:\n",
    "\n",
    "*\"Normalmente apunto a entre 3,000 y 10,000 iteraciones con tasas de shrinkage entre 0.01 y 0.001.\"*"
   ]
  },
  {
   "cell_type": "markdown",
   "metadata": {},
   "source": [
    "\n",
    "\n",
    "### 13.3 Consejos de Configuración desde scikit-learn\n",
    "\n",
    "La biblioteca de Python proporciona una implementación de **gradient boosting** para clasificación llamada la clase `GradientBoostingClassifier` y para regresión llamada `GradientBoostingRegressor`. Es útil revisar la configuración predeterminada del algoritmo en esta biblioteca. Hay muchos parámetros, pero a continuación se muestran algunos valores predeterminados clave:\n",
    "\n",
    "- **learning rate** = 0.1 (shrinkage).\n",
    "- **n_estimators** = 100 (número de árboles).\n",
    "- **max_depth** = 3.\n",
    "- **min_samples_split** = 2.\n",
    "- **min_samples_leaf** = 1.\n",
    "- **subsample** = 1.0.\n",
    "\n",
    "Es interesante notar que la reducción predeterminada coincide con la propuesta de Friedman, y que la profundidad del árbol no se establece en \"stumps\" (árboles simples), como en el paquete de R. Una profundidad de árbol de 3 (si el árbol creado fuera simétrico) tendrá 8 nodos hoja, coincidiendo con el límite superior del número preferido de nodos terminales en los estudios de Friedman (alternativamente, se puede establecer el número máximo de nodos hoja). En la guía del usuario de scikit-learn, bajo la sección titulada *Gradient Tree Boosting*, los autores comentan que establecer el número máximo de nodos hoja tiene un efecto similar a establecer la profundidad máxima en uno menos que el número máximo de nodos hoja, pero resulta en un rendimiento peor:\n",
    "\n",
    "*\"Encontramos que establecer max leaf nodes=k da resultados comparables a max depth=k−1, pero es significativamente más rápido de entrenar a expensas de un error de entrenamiento ligeramente mayor.\"*\n",
    "\n",
    "En un pequeño estudio que demuestra métodos de regularización para gradient boosting titulado *Gradient Boosting Regularization*, los resultados muestran el beneficio de usar tanto **shrinkage** como **sub-sampling**."
   ]
  },
  {
   "cell_type": "code",
   "execution_count": 17,
   "metadata": {},
   "outputs": [
    {
     "name": "stdout",
     "output_type": "stream",
     "text": [
      "Accuracy: 1.00\n"
     ]
    }
   ],
   "source": [
    "import pandas as pd\n",
    "from sklearn.model_selection import train_test_split\n",
    "from sklearn.ensemble import GradientBoostingClassifier\n",
    "from sklearn.metrics import accuracy_score\n",
    "from sklearn.preprocessing import LabelEncoder\n",
    "\n",
    "# Cargar los datos\n",
    "url = \"DataFRames/train.csv\"\n",
    "data = pd.read_csv(url)\n",
    "\n",
    "# Dividir los datos en características (X) y etiqueta (y)\n",
    "X = data.iloc[:, :-1]  # Asumiendo que la última columna es la etiqueta\n",
    "y = data.iloc[:, -1]\n",
    "\n",
    "# Codificar las etiquetas de clase como enteros\n",
    "label_encoder = LabelEncoder()\n",
    "y_encoded = label_encoder.fit_transform(y)\n",
    "\n",
    "# Dividir los datos en entrenamiento y prueba\n",
    "X_train, X_test, y_train, y_test = train_test_split(X, y_encoded, test_size=0.2, random_state=42)\n",
    "\n",
    "# Configurar el clasificador GradientBoosting\n",
    "gb_clf = GradientBoostingClassifier(\n",
    "    n_estimators=100,            # Número de árboles\n",
    "    learning_rate=0.1,           # Tasa de aprendizaje\n",
    "    max_depth=3,                 # Profundidad máxima de los árboles\n",
    "    min_samples_split=2,         # Número mínimo de muestras para dividir un nodo\n",
    "    min_samples_leaf=1,          # Número mínimo de muestras en un nodo hoja\n",
    "    subsample=0.8                # Fracción de muestras para entrenar cada árbol\n",
    "    \n",
    ")\n",
    "\n",
    "# Entrenar el modelo\n",
    "gb_clf.fit(X_train, y_train)\n",
    "\n",
    "# Predecir en el conjunto de prueba\n",
    "y_pred = gb_clf.predict(X_test)\n",
    "\n",
    "# Evaluar el rendimiento del modelo\n",
    "accuracy = accuracy_score(y_test, y_pred)\n",
    "print(f'Accuracy: {accuracy:.2f}')\n",
    "\n"
   ]
  },
  {
   "cell_type": "markdown",
   "metadata": {},
   "source": [
    "\n",
    "\n",
    "# 13.4 Consejos de Configuración desde XGBoost\n",
    "\n",
    "La biblioteca XGBoost está dedicada al algoritmo de gradient boosting. También especifica parámetros predeterminados que son interesantes de notar, según la página de parámetros de XGBoost:\n",
    "\n",
    "- **eta** = 0.3 (también conocido como tasa de aprendizaje).\n",
    "- **max_depth** = 6.\n",
    "- **subsample** = 1.\n",
    "\n",
    "Esto muestra una tasa de aprendizaje más alta y una mayor profundidad máxima que la observada en la mayoría de los estudios y otras bibliotecas. De manera similar, podemos resumir los parámetros predeterminados para XGBoost en la Referencia API de Python:\n",
    "\n",
    "- **max_depth** = 3.\n",
    "- **learning_rate** = 0.1.\n",
    "- **n_estimators** = 100.\n",
    "- **subsample** = 1.\n",
    "\n",
    "Estos valores predeterminados están generalmente más alineados con los de **scikit-learn** y las recomendaciones de los estudios. En una charla en TechEd Europe titulada *xgboost: Un paquete de R para Boosting Rápido y Preciso*, cuando se le preguntó cómo configurar XGBoost, Tong He sugirió que los tres parámetros más importantes a ajustar son: el número de árboles, la profundidad de los árboles y la tasa de aprendizaje. También proporcionó una estrategia concisa de configuración para nuevos problemas:\n",
    "\n",
    "1. Ejecutar la configuración predeterminada (¿y presumiblemente revisar las curvas de aprendizaje?).\n",
    "2. Si el sistema está sobreajustándose, reducir la velocidad de aprendizaje (¿usando shrinkage?).\n",
    "3. Si el sistema está aprendiendo poco, acelerar el aprendizaje para ser más agresivo (¿usando shrinkage?).\n",
    "\n",
    "En una charla de Owen Zhang en la NYC Data Science Academy en 2015, titulada *Winning Data Science Competitions*, proporcionó algunos consejos generales para configurar gradient boosting con XGBoost. Owen es un usuario habitual de gradient boosting:\n",
    "\n",
    "*\"Mi confesión: (ab)uso GBM. Cuando tengas dudas, usa GBM.\"*\n",
    "\n",
    "Él ofrece algunos consejos para configurar gradient boosting:\n",
    "\n",
    "- Apuntar a entre 500 y 1000 árboles y luego ajustar la tasa de aprendizaje (**n_estimators**).\n",
    "- Establecer el número de muestras en los nodos hoja en suficientes observaciones necesarias para hacer una buena estimación de la media (**min_child_weight**).\n",
    "- Configurar la profundidad de interacción en alrededor de 10 o más (**max_depth**).\n",
    "\n",
    "En una presentación actualizada para la misma charla, ofrece una tabla de parámetros comunes que usa para XGBoost, resumidos de la siguiente manera:\n",
    "\n",
    "- **Número de Árboles** (**n_estimators**) fijado en un valor entre 100 y 1000, dependiendo del tamaño del conjunto de datos.\n",
    "- **Tasa de Aprendizaje** (**learning_rate**) simplificada a la proporción: $ \\frac{2}{\\text{número de árboles}} $, dependiendo del número de árboles.\n",
    "- **Muestreo de Filas** (**subsample**) con búsqueda en la grilla en el rango [0.5, 0.75, 1.0].\n",
    "- **Muestreo de Columnas** (**colsample_bytree** y quizás **colsample_bylevel**) con búsqueda en la grilla en el rango [0.4, 0.6, 0.8, 1.0].\n",
    "- **Peso Mínimo de la Hoja** (**min_child_weight**) simplificado a la proporción $ \\frac{3}{\\text{eventos raros}} $, donde \"eventos raros\" es el porcentaje de observaciones de eventos raros en el conjunto de datos.\n",
    "- **Tamaño del Árbol** (**max_depth**) con búsqueda en la grilla en el rango [4, 6, 8, 10].\n",
    "- **Ganancia Mínima de la División** (**gamma**) fijado en un valor de cero.\n",
    "  Aquí tienes la traducción:\n",
    "\n",
    "Es interesante notar que este practicante de clase mundial no ajusta los valores de **gamma** ni los términos de la penalización de regularización (**reg_alpha** y **reg_lambda**). En una charla similar de Owen en ODSC Boston 2015, titulada *Open Source Tools and Data Science Competitions*, nuevamente resumió los parámetros comunes que utiliza. Podemos ver algunas diferencias menores que pueden ser relevantes:\n",
    "\n",
    "- **Número de Árboles y Tasa de Aprendizaje**: Fijar el número de árboles en alrededor de 100 (en lugar de 1000) y luego ajustar la tasa de aprendizaje.\n",
    "- **Profundidad Máxima del Árbol**: Comenzar con un valor de 6 y, presumiblemente, ajustarlo a partir de ahí.\n",
    "- **Peso Mínimo de la Hoja**: Usar una proporción modificada de $ \\frac{1}{\\sqrt{\\text{eventos raros}}} $, donde \"eventos raros\" es el porcentaje de observaciones de eventos raros en el conjunto de datos.\n",
    "- **Muestreo de Columnas**: Búsqueda en la grilla con valores en el rango de 0.3 a 0.5 (más restringido).\n",
    "- **Muestreo de Filas**: Fijado en el valor de 1.0.\n",
    "- **Ganancia Mínima de la División**: Fijado en el valor de 0.0.\n",
    "\n",
    "Finalmente, Abhishek Thakur, en su tutorial titulado *Approaching (Almost) Any Machine Learning Problem*, proporcionó una tabla similar enumerando los parámetros clave de XGBoost y sugerencias para ajustarlos. Los rangos de ajuste para cada parámetro son prácticamente los mismos, con algunas diferencias notables. Específicamente, sugiere realizar búsquedas en la grilla para los valores de **Ganancia Mínima de la División (gamma)** y los términos de la penalización de regularización (**reg_alpha** y **reg_lambda**). También explora valores grandes para el tamaño del árbol (**max_depth**), por encima de 10, así como valores fijos para el Peso Mínimo de la Hoja (**min_child_weight**) en el rango de aproximadamente 1 a 10."
   ]
  },
  {
   "cell_type": "markdown",
   "metadata": {},
   "source": [
    "\n",
    "\n",
    "# 13.5 Resumen\n",
    "\n",
    "En este tutorial obtuviste una visión sobre cómo configurar gradient boosting para tus propios problemas de machine learning. Específicamente aprendiste:\n",
    "\n",
    "- Sobre la compensación entre el número de árboles y el shrinkage, así como buenos valores predeterminados para el submuestreo.\n",
    "- Diferentes ideas sobre cómo limitar el tamaño del árbol y buenos valores predeterminados para la profundidad del árbol y el número de nodos terminales.\n",
    "- Estrategias de búsqueda en grilla utilizadas por un ganador de competencias en Kaggle.\n",
    "\n",
    "En el próximo tutorial aprenderás cómo diseñar experimentos controlados para ajustar el número y tamaño de los árboles en un modelo de XGBoost."
   ]
  },
  {
   "cell_type": "markdown",
   "metadata": {},
   "source": [
    "# Capitulo 16"
   ]
  },
  {
   "cell_type": "markdown",
   "metadata": {},
   "source": [
    "### Ajuste de Gradient Boosting Estocástico con XGBoost\n",
    "\n",
    "Una técnica simple para ensamblar árboles de decisión implica entrenar árboles en submuestras del conjunto de datos de entrenamiento. Se pueden tomar subconjuntos de las filas de los datos de entrenamiento para entrenar árboles individuales, lo que se llama *bagging*. Cuando también se toman subconjuntos de las filas de los datos de entrenamiento al calcular cada punto de división, esto se llama *random forest* (bosque aleatorio). Estas técnicas también pueden ser utilizadas en el modelo de *gradient tree boosting* en una técnica llamada *stochastic gradient boosting* (gradient boosting estocástico). En este tutorial, descubrirás el gradient boosting estocástico y cómo ajustar los parámetros de muestreo utilizando XGBoost con scikit-learn en Python.\n",
    "\n",
    "Después de leer este tutorial, sabrás:\n",
    "\n",
    "- El razonamiento detrás del entrenamiento de árboles con submuestras de datos y cómo se puede utilizar en el *gradient boosting*.\n",
    "- Cómo ajustar el muestreo basado en filas en XGBoost utilizando scikit-learn.\n",
    "- Cómo ajustar el muestreo basado en columnas tanto por árbol como por punto de división en XGBoost.\n",
    "\n",
    "¡Comencemos!"
   ]
  },
  {
   "cell_type": "markdown",
   "metadata": {},
   "source": [
    "\n",
    "\n",
    "### 1. **Bagging (Bootstrap Aggregating)**\n",
    "   - Bagging consiste en entrenar múltiples modelos (como árboles de decisión) en subconjuntos aleatorios del conjunto de datos de entrenamiento. Cada subconjunto se obtiene mediante una técnica llamada \"bootstrap\" (remuestreo con reemplazo).\n",
    "   - **Ejemplo**: \n",
    "     Imagina que tienes un dataset de 1000 ejemplos. En lugar de entrenar un único árbol de decisión con los 1000 ejemplos, creas 10 subconjuntos aleatorios de 800 ejemplos (algunos pueden repetirse debido al reemplazo) y entrenas 10 árboles de decisión independientes en cada uno. Luego, para predecir un nuevo dato, tomas la predicción promedio o mayoría de los 10 árboles.\n",
    "\n",
    "### 2. **Random Forest**\n",
    "   - Random Forest es una extensión de Bagging, pero con una diferencia clave. Al entrenar cada árbol de decisión, además de tomar subconjuntos de las filas (instancias), también se toma un subconjunto aleatorio de características (columnas) en cada nodo del árbol al buscar el mejor punto de división.\n",
    "   - **Ejemplo**: \n",
    "     Siguiendo el ejemplo anterior, entrenas 10 árboles en subconjuntos aleatorios de 800 ejemplos. Pero en lugar de usar todas las características disponibles para cada división del árbol, seleccionas aleatoriamente un subconjunto de 5 de las 10 características disponibles en cada nodo. Esto introduce más diversidad en los árboles y mejora la precisión.\n",
    "\n"
   ]
  },
  {
   "cell_type": "markdown",
   "metadata": {},
   "source": [
    "### 16.1 Gradient Boosting Estocástico\n",
    "\n",
    "El *gradient boosting* es un procedimiento voraz. Se agregan nuevos árboles de decisión al modelo para corregir el error residual del modelo existente. Cada árbol de decisión se crea utilizando un procedimiento de búsqueda voraz para seleccionar los puntos de división que mejor minimicen una función objetivo. Esto puede dar como resultado árboles que usan los mismos atributos e incluso los mismos puntos de división una y otra vez. \n",
    "\n",
    "El *bagging* es una técnica en la que se crea una colección de árboles de decisión, cada uno a partir de un subconjunto aleatorio diferente de filas del conjunto de datos de entrenamiento. El efecto es que se logra un mejor rendimiento del conjunto de árboles porque la aleatoriedad en la muestra permite la creación de árboles ligeramente diferentes, añadiendo varianza a las predicciones combinadas.\n",
    "\n",
    "El *random forest* (bosque aleatorio) lleva esto un paso más allá, al permitir que las características (columnas) también se muestreen al elegir los puntos de división, añadiendo más varianza al conjunto de árboles. Estas mismas técnicas se pueden utilizar en la construcción de árboles de decisión en el *gradient boosting* en una variación llamada *gradient boosting estocástico*. Es común usar submuestras agresivas del conjunto de datos de entrenamiento, como del 40% al 80%."
   ]
  },
  {
   "cell_type": "markdown",
   "metadata": {},
   "source": [
    "### 16.2 Descripción general del tutorial\n",
    "\n",
    "En este tutorial vamos a examinar el efecto de diferentes técnicas de muestreo en el *gradient boosting*. Ajustaremos tres variaciones de *stochastic gradient boosting* compatibles con la biblioteca XGBoost en Python, específicamente:\n",
    "\n",
    "1. Muestreo de filas del conjunto de datos al crear cada árbol.\n",
    "2. Muestreo de columnas del conjunto de datos al crear cada árbol.\n",
    "3. Muestreo de columnas para cada división en el conjunto de datos al crear cada árbol."
   ]
  },
  {
   "cell_type": "markdown",
   "metadata": {},
   "source": [
    "### 16.3 Ajuste del Muestreo de Filas\n",
    "\n",
    "El muestreo de filas implica seleccionar una muestra aleatoria del conjunto de datos de entrenamiento sin reemplazo. El muestreo de filas se puede especificar en el parámetro *subsample* de la clase XGBoost en el envoltorio de scikit-learn. El valor predeterminado es 1.0, lo que significa que no se realiza ningún muestreo. Podemos usar la capacidad de *grid search* integrada en scikit-learn para evaluar el efecto de diferentes valores de *subsample* desde 0.1 hasta 1.0 en el conjunto de datos Otto (ver Sección 11.1)."
   ]
  },
  {
   "cell_type": "markdown",
   "metadata": {},
   "source": [
    "```bash\n",
    "    [0.1, 0.2, 0.3, 0.4, 0.5, 0.6, 0.7, 0.8, 1.0]\n",
    "\n",
    "```"
   ]
  },
  {
   "cell_type": "markdown",
   "metadata": {},
   "source": [
    "Hay 9 variaciones de *subsample* y cada modelo será evaluado utilizando una validación cruzada de 10 pliegues, lo que significa que se deben entrenar y probar 9 × 10 o 90 modelos. El código completo se proporciona a continuación."
   ]
  },
  {
   "cell_type": "code",
   "execution_count": 26,
   "metadata": {},
   "outputs": [
    {
     "name": "stdout",
     "output_type": "stream",
     "text": [
      "Best: -0.007768 using {'subsample': 0.3}\n",
      "-0.008487 (0.001951) with: {'subsample': 0.1}\n",
      "-0.008236 (0.002319) with: {'subsample': 0.2}\n",
      "-0.007768 (0.002507) with: {'subsample': 0.3}\n",
      "-0.007943 (0.002496) with: {'subsample': 0.4}\n",
      "-0.008328 (0.002431) with: {'subsample': 0.5}\n",
      "-0.008165 (0.002407) with: {'subsample': 0.6}\n",
      "-0.008258 (0.002505) with: {'subsample': 0.7}\n",
      "-0.008315 (0.002544) with: {'subsample': 0.8}\n",
      "-0.008445 (0.002492) with: {'subsample': 1.0}\n"
     ]
    }
   ],
   "source": [
    "# XGBoost on Otto dataset, tune subsample\n",
    "from pandas import read_csv\n",
    "from xgboost import XGBClassifier\n",
    "from sklearn.model_selection import GridSearchCV\n",
    "from sklearn.model_selection import StratifiedKFold\n",
    "from sklearn.preprocessing import LabelEncoder\n",
    "import matplotlib\n",
    "\n",
    "matplotlib.use('Agg')\n",
    "from matplotlib import pyplot\n",
    "# load data\n",
    "url = \"DataFrames/train.csv\"\n",
    "data = read_csv(url)\n",
    "dataset = data.values\n",
    "\n",
    "# split data into X and y\n",
    "X = dataset[:,0:94]\n",
    "y = dataset[:,94]\n",
    "\n",
    "# encode string class values as integers\n",
    "label_encoded_y = LabelEncoder().fit_transform(y)\n",
    "\n",
    "# grid search\n",
    "model = XGBClassifier()\n",
    "subsample = [0.1, 0.2, 0.3, 0.4, 0.5, 0.6, 0.7, 0.8, 1.0]\n",
    "\n",
    "# Crea un diccionario de hiperparámetros que se van a probar\n",
    "param_grid = dict(subsample=subsample)\n",
    "# Realiza una validación cruzada estratificada con 10 pliegues.\n",
    "kfold = StratifiedKFold(n_splits=10, shuffle=True, random_state=7)\n",
    "\n",
    "# Se usa GridSearchCV para probar los diferentes valores de \"subsample\", optimizando la métrica \"neg_log_loss\" (log loss negativo).\n",
    "# n_jobs=-1 permite usar todos los núcleos del CPU disponibles.\n",
    "grid_search = GridSearchCV(model, param_grid, scoring=\"neg_log_loss\", n_jobs=-1, cv=kfold)\n",
    "\n",
    "# Ajusta el modelo utilizando los datos y busca el mejor valor de \"subsample\".\n",
    "grid_result = grid_search.fit(X, label_encoded_y)\n",
    "\n",
    "# Imprime la mejor puntuación de log loss y el mejor hiperparámetro encontrado.\n",
    "print(\"Best: %f using %s\" % (grid_result.best_score_, grid_result.best_params_))\n",
    "\n",
    "# Extrae los resultados de la validación cruzada\n",
    "means = grid_result.cv_results_['mean_test_score']\n",
    "stds = grid_result.cv_results_['std_test_score']\n",
    "params = grid_result.cv_results_['params']\n",
    "for mean, stdev, param in zip(means, stds, params):\n",
    "    print(\"%f (%f) with: %r\" % (mean, stdev, param))\n",
    "\n"
   ]
  },
  {
   "cell_type": "code",
   "execution_count": 25,
   "metadata": {},
   "outputs": [],
   "source": [
    "# plot\n",
    "pyplot.errorbar(subsample, means, yerr=stds)\n",
    "pyplot.title(\"XGBoost subsample vs Log Loss\")\n",
    "pyplot.xlabel('subsample')\n",
    "pyplot.ylabel('Log Loss')\n",
    "pyplot.savefig('Graficos/subsample.png')"
   ]
  },
  {
   "cell_type": "markdown",
   "metadata": {},
   "source": [
    "Ejecutar este ejemplo imprime la mejor configuración, así como la *log loss* para cada configuración probada. Podemos ver que los mejores resultados se lograron con un valor de 0.3, es decir, entrenando los árboles utilizando una muestra del 30% del conjunto de datos de entrenamiento."
   ]
  },
  {
   "cell_type": "markdown",
   "metadata": {},
   "source": [
    "```bash\n",
    "Best: -0.007768 using {'subsample': 0.3}\n",
    "-0.008487 (0.001951) with: {'subsample': 0.1}\n",
    "-0.008236 (0.002319) with: {'subsample': 0.2}\n",
    "-0.007768 (0.002507) with: {'subsample': 0.3}\n",
    "-0.007943 (0.002496) with: {'subsample': 0.4}\n",
    "-0.008328 (0.002431) with: {'subsample': 0.5}\n",
    "-0.008165 (0.002407) with: {'subsample': 0.6}\n",
    "-0.008258 (0.002505) with: {'subsample': 0.7}\n",
    "-0.008315 (0.002544) with: {'subsample': 0.8}\n",
    "-0.008445 (0.002492) with: {'subsample': 1.0}\n",
    "```"
   ]
  },
  {
   "cell_type": "markdown",
   "metadata": {},
   "source": [
    "Podemos graficar estos valores medios y de desviación estándar de *log loss* para obtener una mejor comprensión de cómo varía el rendimiento con el valor de *subsample*."
   ]
  },
  {
   "cell_type": "markdown",
   "metadata": {},
   "source": [
    "Podemos ver que, efectivamente, el 30% tiene el mejor rendimiento medio, pero también podemos observar que, a medida que aumenta la proporción, la varianza en el rendimiento crece de manera bastante notable. Es interesante notar que el rendimiento medio de todos los valores de *subsample* supera al rendimiento medio sin muestreo (subsample=1.0)."
   ]
  },
  {
   "cell_type": "markdown",
   "metadata": {},
   "source": [
    "### 16.4 Ajuste del Muestreo de Columnas por Árbol\n",
    "\n",
    "También podemos crear una muestra aleatoria de las características (o columnas) para usar antes de crear cada árbol de decisión en el modelo *boosted*. En el envoltorio de XGBoost para scikit-learn, esto se controla mediante el parámetro *colsample_bytree*. El valor predeterminado es 1.0, lo que significa que se utilizan todas las columnas en cada árbol de decisión. Podemos evaluar valores para *colsample_bytree* entre 0.1 y 1.0, incrementando en 0.1."
   ]
  },
  {
   "cell_type": "markdown",
   "metadata": {},
   "source": [
    "```bash\n",
    "[0.1, 0.2, 0.3, 0.4, 0.5, 0.6, 0.7, 0.8, 1.0]\n",
    "```"
   ]
  },
  {
   "cell_type": "markdown",
   "metadata": {},
   "source": [
    "El listado completo del código se proporciona a continuación."
   ]
  },
  {
   "cell_type": "code",
   "execution_count": 27,
   "metadata": {},
   "outputs": [
    {
     "name": "stdout",
     "output_type": "stream",
     "text": [
      "Best: -0.006412 using {'colsample_bytree': 0.3}\n",
      "-0.026502 (0.001381) with: {'colsample_bytree': 0.1}\n",
      "-0.006627 (0.001501) with: {'colsample_bytree': 0.2}\n",
      "-0.006412 (0.001823) with: {'colsample_bytree': 0.3}\n",
      "-0.006681 (0.001798) with: {'colsample_bytree': 0.4}\n",
      "-0.006922 (0.001914) with: {'colsample_bytree': 0.5}\n",
      "-0.007362 (0.002242) with: {'colsample_bytree': 0.6}\n",
      "-0.007637 (0.002246) with: {'colsample_bytree': 0.7}\n",
      "-0.007761 (0.002283) with: {'colsample_bytree': 0.8}\n",
      "-0.008445 (0.002492) with: {'colsample_bytree': 1.0}\n"
     ]
    }
   ],
   "source": [
    "# XGBoost on Otto dataset, tune colsample_bytree\n",
    "from pandas import read_csv\n",
    "from xgboost import XGBClassifier\n",
    "from sklearn.model_selection import GridSearchCV\n",
    "from sklearn.model_selection import StratifiedKFold\n",
    "from sklearn.preprocessing import LabelEncoder\n",
    "import matplotlib\n",
    "matplotlib.use('Agg')\n",
    "from matplotlib import pyplot\n",
    "# load data\n",
    "\n",
    "data = read_csv(url)\n",
    "dataset = data.values\n",
    "# split data into X and y\n",
    "X = dataset[:,0:94]\n",
    "y = dataset[:,94]\n",
    "# encode string class values as integers\n",
    "label_encoded_y = LabelEncoder().fit_transform(y)\n",
    "# grid search\n",
    "model = XGBClassifier()\n",
    "colsample_bytree = [0.1, 0.2, 0.3, 0.4, 0.5, 0.6, 0.7, 0.8, 1.0]\n",
    "param_grid = dict(colsample_bytree=colsample_bytree)\n",
    "kfold = StratifiedKFold(n_splits=10, shuffle=True, random_state=7)\n",
    "grid_search = GridSearchCV(model, param_grid, scoring=\"neg_log_loss\", n_jobs=-1, cv=kfold)\n",
    "grid_result = grid_search.fit(X, label_encoded_y)\n",
    "# summarize results\n",
    "print(\"Best: %f using %s\" % (grid_result.best_score_, grid_result.best_params_))\n",
    "means = grid_result.cv_results_['mean_test_score']\n",
    "stds = grid_result.cv_results_['std_test_score']\n",
    "params = grid_result.cv_results_['params']\n",
    "for mean, stdev, param in zip(means, stds, params):\n",
    "    print(\"%f (%f) with: %r\" % (mean, stdev, param))\n",
    "# plot\n",
    "pyplot.errorbar(colsample_bytree, means, yerr=stds)\n",
    "pyplot.title(\"XGBoost colsample_bytree vs Log Loss\")\n",
    "pyplot.xlabel('colsample_bytree')\n",
    "pyplot.ylabel('Log Loss')\n",
    "pyplot.savefig('colsample_bytree.png')\n"
   ]
  },
  {
   "cell_type": "markdown",
   "metadata": {},
   "source": [
    "Ejecutar este ejemplo imprime la mejor configuración, así como la *log loss* para cada configuración probada. Podemos ver que el mejor rendimiento para el modelo fue con *colsample_bytree = 1.0*. Esto sugiere que el muestreo de columnas en este problema no aporta valor."
   ]
  },
  {
   "cell_type": "markdown",
   "metadata": {},
   "source": [
    "```bash\n",
    "Best: -0.006412 using {'colsample_bytree': 0.3}\n",
    "-0.026502 (0.001381) with: {'colsample_bytree': 0.1}\n",
    "-0.006627 (0.001501) with: {'colsample_bytree': 0.2}\n",
    "-0.006412 (0.001823) with: {'colsample_bytree': 0.3}\n",
    "-0.006681 (0.001798) with: {'colsample_bytree': 0.4}\n",
    "-0.006922 (0.001914) with: {'colsample_bytree': 0.5}\n",
    "-0.007362 (0.002242) with: {'colsample_bytree': 0.6}\n",
    "-0.007637 (0.002246) with: {'colsample_bytree': 0.7}\n",
    "-0.007761 (0.002283) with: {'colsample_bytree': 0.8}\n",
    "-0.008445 (0.002492) with: {'colsample_bytree': 1.0}\n",
    "```"
   ]
  },
  {
   "cell_type": "markdown",
   "metadata": {},
   "source": [
    "Al graficar los resultados, podemos ver que el rendimiento del modelo se estabiliza (al menos en esta escala) con valores entre 0.5 y 1.0."
   ]
  },
  {
   "cell_type": "markdown",
   "metadata": {},
   "source": [
    "### 16.5 Ajuste del Muestreo de Columnas por División\n",
    "\n",
    "En lugar de hacer un muestreo de las columnas una vez para cada árbol, podemos muestrearlas en cada división del árbol de decisión. En principio, este es el enfoque utilizado en el *random forest*. Podemos establecer el tamaño de la muestra de columnas utilizada en cada división mediante el parámetro *colsample_bylevel* en las clases envoltorio de XGBoost para scikit-learn. Como antes, variamos la proporción desde el 10% hasta el valor predeterminado del 100%. El listado completo del código se proporciona a continuación."
   ]
  },
  {
   "cell_type": "code",
   "execution_count": 28,
   "metadata": {},
   "outputs": [
    {
     "name": "stdout",
     "output_type": "stream",
     "text": [
      "Best: -0.006326 using {'colsample_bylevel': 0.1}\n",
      "-0.006326 (0.001509) with: {'colsample_bylevel': 0.1}\n",
      "-0.006348 (0.001844) with: {'colsample_bylevel': 0.2}\n",
      "-0.006614 (0.001741) with: {'colsample_bylevel': 0.3}\n",
      "-0.007141 (0.001936) with: {'colsample_bylevel': 0.4}\n",
      "-0.007480 (0.002272) with: {'colsample_bylevel': 0.5}\n",
      "-0.007560 (0.002133) with: {'colsample_bylevel': 0.6}\n",
      "-0.007833 (0.002352) with: {'colsample_bylevel': 0.7}\n",
      "-0.008177 (0.002505) with: {'colsample_bylevel': 0.8}\n",
      "-0.008445 (0.002492) with: {'colsample_bylevel': 1.0}\n"
     ]
    }
   ],
   "source": [
    "# XGBoost on Otto dataset, tune colsample_bylevel\n",
    "from pandas import read_csv\n",
    "from xgboost import XGBClassifier\n",
    "from sklearn.model_selection import GridSearchCV\n",
    "from sklearn.model_selection import StratifiedKFold\n",
    "from sklearn.preprocessing import LabelEncoder\n",
    "import matplotlib\n",
    "matplotlib.use('Agg')\n",
    "from matplotlib import pyplot\n",
    "# load data\n",
    "\n",
    "data = read_csv(url)\n",
    "dataset = data.values\n",
    "# split data into X and y\n",
    "X = dataset[:,0:94]\n",
    "y = dataset[:,94]\n",
    "# encode string class values as integers\n",
    "label_encoded_y = LabelEncoder().fit_transform(y)\n",
    "# grid search\n",
    "model = XGBClassifier()\n",
    "colsample_bylevel = [0.1, 0.2, 0.3, 0.4, 0.5, 0.6, 0.7, 0.8, 1.0]\n",
    "param_grid = dict(colsample_bylevel=colsample_bylevel)\n",
    "kfold = StratifiedKFold(n_splits=10, shuffle=True, random_state=7)\n",
    "grid_search = GridSearchCV(model, param_grid, scoring=\"neg_log_loss\", n_jobs=-1, cv=kfold)\n",
    "grid_result = grid_search.fit(X, label_encoded_y)\n",
    "# summarize results\n",
    "print(\"Best: %f using %s\" % (grid_result.best_score_, grid_result.best_params_))\n",
    "means = grid_result.cv_results_['mean_test_score']\n",
    "stds = grid_result.cv_results_['std_test_score']\n",
    "params = grid_result.cv_results_['params']\n",
    "for mean, stdev, param in zip(means, stds, params):\n",
    "    print(\"%f (%f) with: %r\" % (mean, stdev, param))\n",
    "# plot\n",
    "pyplot.errorbar(colsample_bylevel, means, yerr=stds)\n",
    "pyplot.title(\"XGBoost colsample_bylevel vs Log Loss\")\n",
    "pyplot.xlabel('colsample_bylevel')\n",
    "pyplot.ylabel('Log Loss')\n",
    "pyplot.savefig('colsample_bylevel.png')"
   ]
  },
  {
   "cell_type": "markdown",
   "metadata": {},
   "source": [
    "Ejecutar este ejemplo imprime la mejor configuración, así como la *log loss* para cada configuración probada. Podemos ver que los mejores resultados se lograron al establecer *colsample_bylevel* en un 70%, lo que resultó en una *log loss* (invertida) de -0.001062, mejor que los -0.001239 obtenidos al configurar el muestreo de columnas por árbol en un 100%. Esto sugiere que no se debe abandonar el muestreo de columnas si los resultados por árbol sugieren usar el 100% de las columnas, y en su lugar se debe probar el muestreo de columnas por división."
   ]
  },
  {
   "cell_type": "markdown",
   "metadata": {},
   "source": [
    "```bash\n",
    "Best: -0.006326 using {'colsample_bylevel': 0.1}\n",
    "-0.006326 (0.001509) with: {'colsample_bylevel': 0.1}\n",
    "-0.006348 (0.001844) with: {'colsample_bylevel': 0.2}\n",
    "-0.006614 (0.001741) with: {'colsample_bylevel': 0.3}\n",
    "-0.007141 (0.001936) with: {'colsample_bylevel': 0.4}\n",
    "-0.007480 (0.002272) with: {'colsample_bylevel': 0.5}\n",
    "-0.007560 (0.002133) with: {'colsample_bylevel': 0.6}\n",
    "-0.007833 (0.002352) with: {'colsample_bylevel': 0.7}\n",
    "-0.008177 (0.002505) with: {'colsample_bylevel': 0.8}\n",
    "-0.008445 (0.002492) with: {'colsample_bylevel': 1.0}\n",
    "```"
   ]
  },
  {
   "cell_type": "markdown",
   "metadata": {},
   "source": [
    "Podemos graficar el rendimiento de cada variación de *colsample_bylevel*. Los resultados muestran una varianza relativamente baja y, aparentemente, un estancamiento en el rendimiento después de un valor de 0.3 en esta escala."
   ]
  },
  {
   "cell_type": "markdown",
   "metadata": {},
   "source": [
    "### 16.6 Resumen\n",
    "\n",
    "En este tutorial, descubriste el *stochastic gradient boosting* con XGBoost en Python. Específicamente, aprendiste:\n",
    "\n",
    "- Acerca del *stochastic boosting* y cómo puedes realizar submuestreo de tus datos de entrenamiento para mejorar la generalización de tu modelo.\n",
    "- Cómo ajustar el muestreo de filas con XGBoost en Python y scikit-learn.\n",
    "- Cómo ajustar el muestreo de columnas con XGBoost tanto por árbol como por división.\n",
    "\n",
    "Esto concluye la Parte IV de este libro. A continuación, en la Parte V, el libro será concluido y descubrirás recursos que puedes utilizar para obtener ayuda con el *gradient boosting* y la biblioteca XGBoost."
   ]
  }
 ],
 "metadata": {
  "kernelspec": {
   "display_name": "Python 3",
   "language": "python",
   "name": "python3"
  },
  "language_info": {
   "codemirror_mode": {
    "name": "ipython",
    "version": 3
   },
   "file_extension": ".py",
   "mimetype": "text/x-python",
   "name": "python",
   "nbconvert_exporter": "python",
   "pygments_lexer": "ipython3",
   "version": "3.12.1"
  }
 },
 "nbformat": 4,
 "nbformat_minor": 2
}
